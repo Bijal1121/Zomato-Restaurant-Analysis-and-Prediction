{
  "nbformat": 4,
  "nbformat_minor": 0,
  "metadata": {
    "colab": {
      "name": "Zomato Prediction.ipynb",
      "provenance": [],
      "collapsed_sections": [],
      "include_colab_link": true
    },
    "kernelspec": {
      "name": "python3",
      "display_name": "Python 3"
    },
    "language_info": {
      "name": "python"
    }
  },
  "cells": [
    {
      "cell_type": "markdown",
      "metadata": {
        "id": "view-in-github",
        "colab_type": "text"
      },
      "source": [
        "<a href=\"https://colab.research.google.com/github/jaanvinambiar/Zomato-Rating-Prediction/blob/main/Zomato_Prediction.ipynb\" target=\"_parent\"><img src=\"https://colab.research.google.com/assets/colab-badge.svg\" alt=\"Open In Colab\"/></a>"
      ]
    },
    {
      "cell_type": "code",
      "metadata": {
        "id": "BX6AdCu4TBGu"
      },
      "source": [
        "import pandas as pd\n",
        "import numpy as np\n",
        "import seaborn as sns\n",
        "import matplotlib.pyplot as plt"
      ],
      "execution_count": null,
      "outputs": []
    },
    {
      "cell_type": "code",
      "metadata": {
        "id": "mAu6cgk1TSWM"
      },
      "source": [
        "df = pd.read_csv('/content/read.csv')"
      ],
      "execution_count": null,
      "outputs": []
    },
    {
      "cell_type": "code",
      "metadata": {
        "colab": {
          "base_uri": "https://localhost:8080/",
          "height": 581
        },
        "id": "4C28EOLJTXwG",
        "outputId": "89499ce0-24d1-4cc1-9a09-a09d0102f6a3"
      },
      "source": [
        "df.head()"
      ],
      "execution_count": null,
      "outputs": [
        {
          "output_type": "execute_result",
          "data": {
            "text/html": [
              "<div>\n",
              "<style scoped>\n",
              "    .dataframe tbody tr th:only-of-type {\n",
              "        vertical-align: middle;\n",
              "    }\n",
              "\n",
              "    .dataframe tbody tr th {\n",
              "        vertical-align: top;\n",
              "    }\n",
              "\n",
              "    .dataframe thead th {\n",
              "        text-align: right;\n",
              "    }\n",
              "</style>\n",
              "<table border=\"1\" class=\"dataframe\">\n",
              "  <thead>\n",
              "    <tr style=\"text-align: right;\">\n",
              "      <th></th>\n",
              "      <th>Additional_outlet_count</th>\n",
              "      <th>Call</th>\n",
              "      <th>Cost_for_two</th>\n",
              "      <th>Cuisines</th>\n",
              "      <th>Delivery_Time_min_order</th>\n",
              "      <th>Features</th>\n",
              "      <th>Home_Delivery</th>\n",
              "      <th>Operational_hours</th>\n",
              "      <th>Rating_votes</th>\n",
              "      <th>Restaurant_Location</th>\n",
              "      <th>Restaurant_Name</th>\n",
              "      <th>Restaurant_Type</th>\n",
              "      <th>View_Menu</th>\n",
              "    </tr>\n",
              "  </thead>\n",
              "  <tbody>\n",
              "    <tr>\n",
              "      <th>0</th>\n",
              "      <td>1 more outlet in Mumbai</td>\n",
              "      <td>True</td>\n",
              "      <td>₹1,500</td>\n",
              "      <td>Finger Food, Continental, European, Italian</td>\n",
              "      <td>NaN</td>\n",
              "      <td>Food Hygiene Rated Restaurants In Mumbai, Best...</td>\n",
              "      <td>False</td>\n",
              "      <td>12noon – 1am (Mon-Sun)</td>\n",
              "      <td>4.9                                        132...</td>\n",
              "      <td>Kamala Mills Compound</td>\n",
              "      <td>Lord of the Drinks</td>\n",
              "      <td>Lounge,Casual Dining</td>\n",
              "      <td>True</td>\n",
              "    </tr>\n",
              "    <tr>\n",
              "      <th>1</th>\n",
              "      <td>1 more outlet in Mumbai</td>\n",
              "      <td>True</td>\n",
              "      <td>₹800</td>\n",
              "      <td>Pizza</td>\n",
              "      <td>NaN</td>\n",
              "      <td>Value For Money, Best of Mumbai</td>\n",
              "      <td>False</td>\n",
              "      <td>11am – 12:30AM (Mon-Sun)</td>\n",
              "      <td>4.6                                        597...</td>\n",
              "      <td>Malad West</td>\n",
              "      <td>Joey's Pizza</td>\n",
              "      <td>Quick Bites</td>\n",
              "      <td>True</td>\n",
              "    </tr>\n",
              "    <tr>\n",
              "      <th>2</th>\n",
              "      <td>NaN</td>\n",
              "      <td>True</td>\n",
              "      <td>₹2,500</td>\n",
              "      <td>Seafood</td>\n",
              "      <td>NaN</td>\n",
              "      <td>Super Seafood, Best of Mumbai</td>\n",
              "      <td>False</td>\n",
              "      <td>Closed (Mon),12noon – 3pm, 7pm – 12midnight...</td>\n",
              "      <td>4.5                                        143...</td>\n",
              "      <td>Linking Road, Bandra West</td>\n",
              "      <td>Bastian</td>\n",
              "      <td>Casual Dining,Bar</td>\n",
              "      <td>True</td>\n",
              "    </tr>\n",
              "    <tr>\n",
              "      <th>3</th>\n",
              "      <td>NaN</td>\n",
              "      <td>True</td>\n",
              "      <td>₹1,800</td>\n",
              "      <td>Finger Food, Continental</td>\n",
              "      <td>NaN</td>\n",
              "      <td>Where's The Party?, Best of Mumbai, Food Hygie...</td>\n",
              "      <td>False</td>\n",
              "      <td>12noon – 1am (Mon-Sun)</td>\n",
              "      <td>4.9                                        327...</td>\n",
              "      <td>Lower Parel</td>\n",
              "      <td>Tamasha</td>\n",
              "      <td>Lounge,Bar</td>\n",
              "      <td>True</td>\n",
              "    </tr>\n",
              "    <tr>\n",
              "      <th>4</th>\n",
              "      <td>2 more outlets in Mumbai</td>\n",
              "      <td>True</td>\n",
              "      <td>₹450</td>\n",
              "      <td>North Indian, Street Food, Fast Food, Chinese</td>\n",
              "      <td>45 min                                        ...</td>\n",
              "      <td>NaN</td>\n",
              "      <td>True</td>\n",
              "      <td>12noon – 4pm, 7pm – 11:45pm (Mon-Sun)</td>\n",
              "      <td>4.1                                        142...</td>\n",
              "      <td>Vashi</td>\n",
              "      <td>Bhagat Tarachand</td>\n",
              "      <td>Casual Dining</td>\n",
              "      <td>True</td>\n",
              "    </tr>\n",
              "  </tbody>\n",
              "</table>\n",
              "</div>"
            ],
            "text/plain": [
              "    Additional_outlet_count  Call  ...       Restaurant_Type View_Menu\n",
              "0   1 more outlet in Mumbai  True  ...  Lounge,Casual Dining      True\n",
              "1   1 more outlet in Mumbai  True  ...           Quick Bites      True\n",
              "2                       NaN  True  ...     Casual Dining,Bar      True\n",
              "3                       NaN  True  ...            Lounge,Bar      True\n",
              "4  2 more outlets in Mumbai  True  ...         Casual Dining      True\n",
              "\n",
              "[5 rows x 13 columns]"
            ]
          },
          "metadata": {},
          "execution_count": 7
        }
      ]
    },
    {
      "cell_type": "code",
      "metadata": {
        "colab": {
          "base_uri": "https://localhost:8080/"
        },
        "id": "5hAS69yizhoI",
        "outputId": "203d1519-e208-483b-d899-289a6f86876b"
      },
      "source": [
        "df.shape"
      ],
      "execution_count": null,
      "outputs": [
        {
          "output_type": "execute_result",
          "data": {
            "text/plain": [
              "(7285, 13)"
            ]
          },
          "metadata": {},
          "execution_count": 8
        }
      ]
    },
    {
      "cell_type": "code",
      "metadata": {
        "colab": {
          "base_uri": "https://localhost:8080/"
        },
        "id": "0sVzYqvDTa8N",
        "outputId": "ca155901-6a10-47e4-b233-490352b0803c"
      },
      "source": [
        "df.isnull().sum()"
      ],
      "execution_count": null,
      "outputs": [
        {
          "output_type": "execute_result",
          "data": {
            "text/plain": [
              "Additional_outlet_count    6285\n",
              "Call                          0\n",
              "Cost_for_two                  0\n",
              "Cuisines                      1\n",
              "Delivery_Time_min_order    4771\n",
              "Features                   5695\n",
              "Home_Delivery                 0\n",
              "Operational_hours            12\n",
              "Rating_votes                  0\n",
              "Restaurant_Location          19\n",
              "Restaurant_Name               0\n",
              "Restaurant_Type             656\n",
              "View_Menu                     0\n",
              "dtype: int64"
            ]
          },
          "metadata": {},
          "execution_count": 9
        }
      ]
    },
    {
      "cell_type": "code",
      "metadata": {
        "colab": {
          "base_uri": "https://localhost:8080/"
        },
        "id": "y_dJRoHwTelY",
        "outputId": "47873259-06b9-4788-e70c-077960779b4a"
      },
      "source": [
        "df.dtypes"
      ],
      "execution_count": null,
      "outputs": [
        {
          "output_type": "execute_result",
          "data": {
            "text/plain": [
              "Additional_outlet_count    object\n",
              "Call                         bool\n",
              "Cost_for_two               object\n",
              "Cuisines                   object\n",
              "Delivery_Time_min_order    object\n",
              "Features                   object\n",
              "Home_Delivery                bool\n",
              "Operational_hours          object\n",
              "Rating_votes               object\n",
              "Restaurant_Location        object\n",
              "Restaurant_Name            object\n",
              "Restaurant_Type            object\n",
              "View_Menu                    bool\n",
              "dtype: object"
            ]
          },
          "metadata": {},
          "execution_count": 10
        }
      ]
    },
    {
      "cell_type": "markdown",
      "metadata": {
        "id": "FmJ7SLWm6wpX"
      },
      "source": [
        "# Additional outlet count"
      ]
    },
    {
      "cell_type": "code",
      "metadata": {
        "colab": {
          "base_uri": "https://localhost:8080/"
        },
        "id": "fV_6RY2B65V2",
        "outputId": "2177e1c9-d216-49e9-b97b-ec3ddf35dbce"
      },
      "source": [
        "df['Additional_outlet_count'] = df['Additional_outlet_count'].str.replace('more outlet in Mumbai','')\n",
        "df['Additional_outlet_count'] = df['Additional_outlet_count'].str.replace('more outlets in Mumbai','')\n",
        "df['Additional_outlet_count']"
      ],
      "execution_count": null,
      "outputs": [
        {
          "output_type": "execute_result",
          "data": {
            "text/plain": [
              "0        1 \n",
              "1        1 \n",
              "2       NaN\n",
              "3       NaN\n",
              "4        2 \n",
              "       ... \n",
              "7280    NaN\n",
              "7281    NaN\n",
              "7282    NaN\n",
              "7283    NaN\n",
              "7284    NaN\n",
              "Name: Additional_outlet_count, Length: 7285, dtype: object"
            ]
          },
          "metadata": {},
          "execution_count": 11
        }
      ]
    },
    {
      "cell_type": "code",
      "metadata": {
        "colab": {
          "base_uri": "https://localhost:8080/",
          "height": 581
        },
        "id": "hPnJCfZh7wsf",
        "outputId": "d9927bc4-cced-4a54-a4eb-90d12e4dff33"
      },
      "source": [
        "df.head()"
      ],
      "execution_count": null,
      "outputs": [
        {
          "output_type": "execute_result",
          "data": {
            "text/html": [
              "<div>\n",
              "<style scoped>\n",
              "    .dataframe tbody tr th:only-of-type {\n",
              "        vertical-align: middle;\n",
              "    }\n",
              "\n",
              "    .dataframe tbody tr th {\n",
              "        vertical-align: top;\n",
              "    }\n",
              "\n",
              "    .dataframe thead th {\n",
              "        text-align: right;\n",
              "    }\n",
              "</style>\n",
              "<table border=\"1\" class=\"dataframe\">\n",
              "  <thead>\n",
              "    <tr style=\"text-align: right;\">\n",
              "      <th></th>\n",
              "      <th>Additional_outlet_count</th>\n",
              "      <th>Call</th>\n",
              "      <th>Cost_for_two</th>\n",
              "      <th>Cuisines</th>\n",
              "      <th>Delivery_Time_min_order</th>\n",
              "      <th>Features</th>\n",
              "      <th>Home_Delivery</th>\n",
              "      <th>Operational_hours</th>\n",
              "      <th>Rating_votes</th>\n",
              "      <th>Restaurant_Location</th>\n",
              "      <th>Restaurant_Name</th>\n",
              "      <th>Restaurant_Type</th>\n",
              "      <th>View_Menu</th>\n",
              "    </tr>\n",
              "  </thead>\n",
              "  <tbody>\n",
              "    <tr>\n",
              "      <th>0</th>\n",
              "      <td>1</td>\n",
              "      <td>True</td>\n",
              "      <td>₹1,500</td>\n",
              "      <td>Finger Food, Continental, European, Italian</td>\n",
              "      <td>NaN</td>\n",
              "      <td>Food Hygiene Rated Restaurants In Mumbai, Best...</td>\n",
              "      <td>False</td>\n",
              "      <td>12noon – 1am (Mon-Sun)</td>\n",
              "      <td>4.9                                        132...</td>\n",
              "      <td>Kamala Mills Compound</td>\n",
              "      <td>Lord of the Drinks</td>\n",
              "      <td>Lounge,Casual Dining</td>\n",
              "      <td>True</td>\n",
              "    </tr>\n",
              "    <tr>\n",
              "      <th>1</th>\n",
              "      <td>1</td>\n",
              "      <td>True</td>\n",
              "      <td>₹800</td>\n",
              "      <td>Pizza</td>\n",
              "      <td>NaN</td>\n",
              "      <td>Value For Money, Best of Mumbai</td>\n",
              "      <td>False</td>\n",
              "      <td>11am – 12:30AM (Mon-Sun)</td>\n",
              "      <td>4.6                                        597...</td>\n",
              "      <td>Malad West</td>\n",
              "      <td>Joey's Pizza</td>\n",
              "      <td>Quick Bites</td>\n",
              "      <td>True</td>\n",
              "    </tr>\n",
              "    <tr>\n",
              "      <th>2</th>\n",
              "      <td>NaN</td>\n",
              "      <td>True</td>\n",
              "      <td>₹2,500</td>\n",
              "      <td>Seafood</td>\n",
              "      <td>NaN</td>\n",
              "      <td>Super Seafood, Best of Mumbai</td>\n",
              "      <td>False</td>\n",
              "      <td>Closed (Mon),12noon – 3pm, 7pm – 12midnight...</td>\n",
              "      <td>4.5                                        143...</td>\n",
              "      <td>Linking Road, Bandra West</td>\n",
              "      <td>Bastian</td>\n",
              "      <td>Casual Dining,Bar</td>\n",
              "      <td>True</td>\n",
              "    </tr>\n",
              "    <tr>\n",
              "      <th>3</th>\n",
              "      <td>NaN</td>\n",
              "      <td>True</td>\n",
              "      <td>₹1,800</td>\n",
              "      <td>Finger Food, Continental</td>\n",
              "      <td>NaN</td>\n",
              "      <td>Where's The Party?, Best of Mumbai, Food Hygie...</td>\n",
              "      <td>False</td>\n",
              "      <td>12noon – 1am (Mon-Sun)</td>\n",
              "      <td>4.9                                        327...</td>\n",
              "      <td>Lower Parel</td>\n",
              "      <td>Tamasha</td>\n",
              "      <td>Lounge,Bar</td>\n",
              "      <td>True</td>\n",
              "    </tr>\n",
              "    <tr>\n",
              "      <th>4</th>\n",
              "      <td>2</td>\n",
              "      <td>True</td>\n",
              "      <td>₹450</td>\n",
              "      <td>North Indian, Street Food, Fast Food, Chinese</td>\n",
              "      <td>45 min                                        ...</td>\n",
              "      <td>NaN</td>\n",
              "      <td>True</td>\n",
              "      <td>12noon – 4pm, 7pm – 11:45pm (Mon-Sun)</td>\n",
              "      <td>4.1                                        142...</td>\n",
              "      <td>Vashi</td>\n",
              "      <td>Bhagat Tarachand</td>\n",
              "      <td>Casual Dining</td>\n",
              "      <td>True</td>\n",
              "    </tr>\n",
              "  </tbody>\n",
              "</table>\n",
              "</div>"
            ],
            "text/plain": [
              "  Additional_outlet_count  Call  ...       Restaurant_Type View_Menu\n",
              "0                      1   True  ...  Lounge,Casual Dining      True\n",
              "1                      1   True  ...           Quick Bites      True\n",
              "2                     NaN  True  ...     Casual Dining,Bar      True\n",
              "3                     NaN  True  ...            Lounge,Bar      True\n",
              "4                      2   True  ...         Casual Dining      True\n",
              "\n",
              "[5 rows x 13 columns]"
            ]
          },
          "metadata": {},
          "execution_count": 12
        }
      ]
    },
    {
      "cell_type": "code",
      "metadata": {
        "colab": {
          "base_uri": "https://localhost:8080/",
          "height": 581
        },
        "id": "7whXL7LGmWGH",
        "outputId": "6f196970-b3a8-41f2-f537-6b49f08ecbb8"
      },
      "source": [
        "df['Additional_outlet_count'] = df['Additional_outlet_count'].astype(float)\n",
        "df['Additional_outlet_count'] = df['Additional_outlet_count'].fillna(df['Additional_outlet_count'].mean())\n",
        "df['Additional_outlet_count'] = df['Additional_outlet_count'].astype(int)\n",
        "df.head()"
      ],
      "execution_count": null,
      "outputs": [
        {
          "output_type": "execute_result",
          "data": {
            "text/html": [
              "<div>\n",
              "<style scoped>\n",
              "    .dataframe tbody tr th:only-of-type {\n",
              "        vertical-align: middle;\n",
              "    }\n",
              "\n",
              "    .dataframe tbody tr th {\n",
              "        vertical-align: top;\n",
              "    }\n",
              "\n",
              "    .dataframe thead th {\n",
              "        text-align: right;\n",
              "    }\n",
              "</style>\n",
              "<table border=\"1\" class=\"dataframe\">\n",
              "  <thead>\n",
              "    <tr style=\"text-align: right;\">\n",
              "      <th></th>\n",
              "      <th>Additional_outlet_count</th>\n",
              "      <th>Call</th>\n",
              "      <th>Cost_for_two</th>\n",
              "      <th>Cuisines</th>\n",
              "      <th>Delivery_Time_min_order</th>\n",
              "      <th>Features</th>\n",
              "      <th>Home_Delivery</th>\n",
              "      <th>Operational_hours</th>\n",
              "      <th>Rating_votes</th>\n",
              "      <th>Restaurant_Location</th>\n",
              "      <th>Restaurant_Name</th>\n",
              "      <th>Restaurant_Type</th>\n",
              "      <th>View_Menu</th>\n",
              "    </tr>\n",
              "  </thead>\n",
              "  <tbody>\n",
              "    <tr>\n",
              "      <th>0</th>\n",
              "      <td>1</td>\n",
              "      <td>True</td>\n",
              "      <td>₹1,500</td>\n",
              "      <td>Finger Food, Continental, European, Italian</td>\n",
              "      <td>NaN</td>\n",
              "      <td>Food Hygiene Rated Restaurants In Mumbai, Best...</td>\n",
              "      <td>False</td>\n",
              "      <td>12noon – 1am (Mon-Sun)</td>\n",
              "      <td>4.9                                        132...</td>\n",
              "      <td>Kamala Mills Compound</td>\n",
              "      <td>Lord of the Drinks</td>\n",
              "      <td>Lounge,Casual Dining</td>\n",
              "      <td>True</td>\n",
              "    </tr>\n",
              "    <tr>\n",
              "      <th>1</th>\n",
              "      <td>1</td>\n",
              "      <td>True</td>\n",
              "      <td>₹800</td>\n",
              "      <td>Pizza</td>\n",
              "      <td>NaN</td>\n",
              "      <td>Value For Money, Best of Mumbai</td>\n",
              "      <td>False</td>\n",
              "      <td>11am – 12:30AM (Mon-Sun)</td>\n",
              "      <td>4.6                                        597...</td>\n",
              "      <td>Malad West</td>\n",
              "      <td>Joey's Pizza</td>\n",
              "      <td>Quick Bites</td>\n",
              "      <td>True</td>\n",
              "    </tr>\n",
              "    <tr>\n",
              "      <th>2</th>\n",
              "      <td>4</td>\n",
              "      <td>True</td>\n",
              "      <td>₹2,500</td>\n",
              "      <td>Seafood</td>\n",
              "      <td>NaN</td>\n",
              "      <td>Super Seafood, Best of Mumbai</td>\n",
              "      <td>False</td>\n",
              "      <td>Closed (Mon),12noon – 3pm, 7pm – 12midnight...</td>\n",
              "      <td>4.5                                        143...</td>\n",
              "      <td>Linking Road, Bandra West</td>\n",
              "      <td>Bastian</td>\n",
              "      <td>Casual Dining,Bar</td>\n",
              "      <td>True</td>\n",
              "    </tr>\n",
              "    <tr>\n",
              "      <th>3</th>\n",
              "      <td>4</td>\n",
              "      <td>True</td>\n",
              "      <td>₹1,800</td>\n",
              "      <td>Finger Food, Continental</td>\n",
              "      <td>NaN</td>\n",
              "      <td>Where's The Party?, Best of Mumbai, Food Hygie...</td>\n",
              "      <td>False</td>\n",
              "      <td>12noon – 1am (Mon-Sun)</td>\n",
              "      <td>4.9                                        327...</td>\n",
              "      <td>Lower Parel</td>\n",
              "      <td>Tamasha</td>\n",
              "      <td>Lounge,Bar</td>\n",
              "      <td>True</td>\n",
              "    </tr>\n",
              "    <tr>\n",
              "      <th>4</th>\n",
              "      <td>2</td>\n",
              "      <td>True</td>\n",
              "      <td>₹450</td>\n",
              "      <td>North Indian, Street Food, Fast Food, Chinese</td>\n",
              "      <td>45 min                                        ...</td>\n",
              "      <td>NaN</td>\n",
              "      <td>True</td>\n",
              "      <td>12noon – 4pm, 7pm – 11:45pm (Mon-Sun)</td>\n",
              "      <td>4.1                                        142...</td>\n",
              "      <td>Vashi</td>\n",
              "      <td>Bhagat Tarachand</td>\n",
              "      <td>Casual Dining</td>\n",
              "      <td>True</td>\n",
              "    </tr>\n",
              "  </tbody>\n",
              "</table>\n",
              "</div>"
            ],
            "text/plain": [
              "   Additional_outlet_count  Call  ...       Restaurant_Type View_Menu\n",
              "0                        1  True  ...  Lounge,Casual Dining      True\n",
              "1                        1  True  ...           Quick Bites      True\n",
              "2                        4  True  ...     Casual Dining,Bar      True\n",
              "3                        4  True  ...            Lounge,Bar      True\n",
              "4                        2  True  ...         Casual Dining      True\n",
              "\n",
              "[5 rows x 13 columns]"
            ]
          },
          "metadata": {},
          "execution_count": 13
        }
      ]
    },
    {
      "cell_type": "markdown",
      "metadata": {
        "id": "YXAUfmoHTlZ6"
      },
      "source": [
        "# Cost"
      ]
    },
    {
      "cell_type": "code",
      "metadata": {
        "colab": {
          "base_uri": "https://localhost:8080/"
        },
        "id": "v_iGeWGDTgz0",
        "outputId": "9b10ec52-73ee-4b9c-ad05-87f274e96cff"
      },
      "source": [
        "df['Cost_for_two'] = df['Cost_for_two'].str.replace(',', '')\n",
        "df['Cost_for_two'] = df['Cost_for_two'].str.replace('₹', '')\n",
        "df['Cost_for_two']"
      ],
      "execution_count": null,
      "outputs": [
        {
          "output_type": "execute_result",
          "data": {
            "text/plain": [
              "0       1500\n",
              "1        800\n",
              "2       2500\n",
              "3       1800\n",
              "4        450\n",
              "        ... \n",
              "7280     600\n",
              "7281     550\n",
              "7282     350\n",
              "7283    2000\n",
              "7284     600\n",
              "Name: Cost_for_two, Length: 7285, dtype: object"
            ]
          },
          "metadata": {},
          "execution_count": 14
        }
      ]
    },
    {
      "cell_type": "code",
      "metadata": {
        "colab": {
          "base_uri": "https://localhost:8080/",
          "height": 581
        },
        "id": "WlTxzQWWT4ES",
        "outputId": "e7a54fb7-9fda-472d-cfc0-84085ba1bef6"
      },
      "source": [
        "df.head()"
      ],
      "execution_count": null,
      "outputs": [
        {
          "output_type": "execute_result",
          "data": {
            "text/html": [
              "<div>\n",
              "<style scoped>\n",
              "    .dataframe tbody tr th:only-of-type {\n",
              "        vertical-align: middle;\n",
              "    }\n",
              "\n",
              "    .dataframe tbody tr th {\n",
              "        vertical-align: top;\n",
              "    }\n",
              "\n",
              "    .dataframe thead th {\n",
              "        text-align: right;\n",
              "    }\n",
              "</style>\n",
              "<table border=\"1\" class=\"dataframe\">\n",
              "  <thead>\n",
              "    <tr style=\"text-align: right;\">\n",
              "      <th></th>\n",
              "      <th>Additional_outlet_count</th>\n",
              "      <th>Call</th>\n",
              "      <th>Cost_for_two</th>\n",
              "      <th>Cuisines</th>\n",
              "      <th>Delivery_Time_min_order</th>\n",
              "      <th>Features</th>\n",
              "      <th>Home_Delivery</th>\n",
              "      <th>Operational_hours</th>\n",
              "      <th>Rating_votes</th>\n",
              "      <th>Restaurant_Location</th>\n",
              "      <th>Restaurant_Name</th>\n",
              "      <th>Restaurant_Type</th>\n",
              "      <th>View_Menu</th>\n",
              "    </tr>\n",
              "  </thead>\n",
              "  <tbody>\n",
              "    <tr>\n",
              "      <th>0</th>\n",
              "      <td>1</td>\n",
              "      <td>True</td>\n",
              "      <td>1500</td>\n",
              "      <td>Finger Food, Continental, European, Italian</td>\n",
              "      <td>NaN</td>\n",
              "      <td>Food Hygiene Rated Restaurants In Mumbai, Best...</td>\n",
              "      <td>False</td>\n",
              "      <td>12noon – 1am (Mon-Sun)</td>\n",
              "      <td>4.9                                        132...</td>\n",
              "      <td>Kamala Mills Compound</td>\n",
              "      <td>Lord of the Drinks</td>\n",
              "      <td>Lounge,Casual Dining</td>\n",
              "      <td>True</td>\n",
              "    </tr>\n",
              "    <tr>\n",
              "      <th>1</th>\n",
              "      <td>1</td>\n",
              "      <td>True</td>\n",
              "      <td>800</td>\n",
              "      <td>Pizza</td>\n",
              "      <td>NaN</td>\n",
              "      <td>Value For Money, Best of Mumbai</td>\n",
              "      <td>False</td>\n",
              "      <td>11am – 12:30AM (Mon-Sun)</td>\n",
              "      <td>4.6                                        597...</td>\n",
              "      <td>Malad West</td>\n",
              "      <td>Joey's Pizza</td>\n",
              "      <td>Quick Bites</td>\n",
              "      <td>True</td>\n",
              "    </tr>\n",
              "    <tr>\n",
              "      <th>2</th>\n",
              "      <td>4</td>\n",
              "      <td>True</td>\n",
              "      <td>2500</td>\n",
              "      <td>Seafood</td>\n",
              "      <td>NaN</td>\n",
              "      <td>Super Seafood, Best of Mumbai</td>\n",
              "      <td>False</td>\n",
              "      <td>Closed (Mon),12noon – 3pm, 7pm – 12midnight...</td>\n",
              "      <td>4.5                                        143...</td>\n",
              "      <td>Linking Road, Bandra West</td>\n",
              "      <td>Bastian</td>\n",
              "      <td>Casual Dining,Bar</td>\n",
              "      <td>True</td>\n",
              "    </tr>\n",
              "    <tr>\n",
              "      <th>3</th>\n",
              "      <td>4</td>\n",
              "      <td>True</td>\n",
              "      <td>1800</td>\n",
              "      <td>Finger Food, Continental</td>\n",
              "      <td>NaN</td>\n",
              "      <td>Where's The Party?, Best of Mumbai, Food Hygie...</td>\n",
              "      <td>False</td>\n",
              "      <td>12noon – 1am (Mon-Sun)</td>\n",
              "      <td>4.9                                        327...</td>\n",
              "      <td>Lower Parel</td>\n",
              "      <td>Tamasha</td>\n",
              "      <td>Lounge,Bar</td>\n",
              "      <td>True</td>\n",
              "    </tr>\n",
              "    <tr>\n",
              "      <th>4</th>\n",
              "      <td>2</td>\n",
              "      <td>True</td>\n",
              "      <td>450</td>\n",
              "      <td>North Indian, Street Food, Fast Food, Chinese</td>\n",
              "      <td>45 min                                        ...</td>\n",
              "      <td>NaN</td>\n",
              "      <td>True</td>\n",
              "      <td>12noon – 4pm, 7pm – 11:45pm (Mon-Sun)</td>\n",
              "      <td>4.1                                        142...</td>\n",
              "      <td>Vashi</td>\n",
              "      <td>Bhagat Tarachand</td>\n",
              "      <td>Casual Dining</td>\n",
              "      <td>True</td>\n",
              "    </tr>\n",
              "  </tbody>\n",
              "</table>\n",
              "</div>"
            ],
            "text/plain": [
              "   Additional_outlet_count  Call  ...       Restaurant_Type View_Menu\n",
              "0                        1  True  ...  Lounge,Casual Dining      True\n",
              "1                        1  True  ...           Quick Bites      True\n",
              "2                        4  True  ...     Casual Dining,Bar      True\n",
              "3                        4  True  ...            Lounge,Bar      True\n",
              "4                        2  True  ...         Casual Dining      True\n",
              "\n",
              "[5 rows x 13 columns]"
            ]
          },
          "metadata": {},
          "execution_count": 15
        }
      ]
    },
    {
      "cell_type": "markdown",
      "metadata": {
        "id": "-gebN3_VTuPh"
      },
      "source": [
        "# Delivery Time and Cost"
      ]
    },
    {
      "cell_type": "code",
      "metadata": {
        "id": "fhRozktETp2a"
      },
      "source": [
        "df.rename(columns={'Delivery_Time_min_order':'Delivery_Time'},inplace=True)"
      ],
      "execution_count": null,
      "outputs": []
    },
    {
      "cell_type": "code",
      "metadata": {
        "colab": {
          "base_uri": "https://localhost:8080/",
          "height": 52
        },
        "id": "zeHSgRgnT_UY",
        "outputId": "3c7e6fbd-b1ee-4b52-a0ab-8cb13de7e555"
      },
      "source": [
        "df['Delivery_Time'] = df['Delivery_Time'].str.replace('min','')\n",
        "df['Delivery_Time'][4]"
      ],
      "execution_count": null,
      "outputs": [
        {
          "output_type": "execute_result",
          "data": {
            "application/vnd.google.colaboratory.intrinsic+json": {
              "type": "string"
            },
            "text/plain": [
              "'45                                                                              ·                                                                             Rs. 0'"
            ]
          },
          "metadata": {},
          "execution_count": 17
        }
      ]
    },
    {
      "cell_type": "code",
      "metadata": {
        "colab": {
          "base_uri": "https://localhost:8080/",
          "height": 581
        },
        "id": "OhkDfB0eULef",
        "outputId": "e67f6174-5b7c-4a7f-ff5f-0d0f329bb3d7"
      },
      "source": [
        "df[['Delivery_Time','Delivery_cost']] = df['Delivery_Time'].str.split('                                                                              ·                                                                         ',expand=True)\n",
        "df.head()"
      ],
      "execution_count": null,
      "outputs": [
        {
          "output_type": "execute_result",
          "data": {
            "text/html": [
              "<div>\n",
              "<style scoped>\n",
              "    .dataframe tbody tr th:only-of-type {\n",
              "        vertical-align: middle;\n",
              "    }\n",
              "\n",
              "    .dataframe tbody tr th {\n",
              "        vertical-align: top;\n",
              "    }\n",
              "\n",
              "    .dataframe thead th {\n",
              "        text-align: right;\n",
              "    }\n",
              "</style>\n",
              "<table border=\"1\" class=\"dataframe\">\n",
              "  <thead>\n",
              "    <tr style=\"text-align: right;\">\n",
              "      <th></th>\n",
              "      <th>Additional_outlet_count</th>\n",
              "      <th>Call</th>\n",
              "      <th>Cost_for_two</th>\n",
              "      <th>Cuisines</th>\n",
              "      <th>Delivery_Time</th>\n",
              "      <th>Features</th>\n",
              "      <th>Home_Delivery</th>\n",
              "      <th>Operational_hours</th>\n",
              "      <th>Rating_votes</th>\n",
              "      <th>Restaurant_Location</th>\n",
              "      <th>Restaurant_Name</th>\n",
              "      <th>Restaurant_Type</th>\n",
              "      <th>View_Menu</th>\n",
              "      <th>Delivery_cost</th>\n",
              "    </tr>\n",
              "  </thead>\n",
              "  <tbody>\n",
              "    <tr>\n",
              "      <th>0</th>\n",
              "      <td>1</td>\n",
              "      <td>True</td>\n",
              "      <td>1500</td>\n",
              "      <td>Finger Food, Continental, European, Italian</td>\n",
              "      <td>NaN</td>\n",
              "      <td>Food Hygiene Rated Restaurants In Mumbai, Best...</td>\n",
              "      <td>False</td>\n",
              "      <td>12noon – 1am (Mon-Sun)</td>\n",
              "      <td>4.9                                        132...</td>\n",
              "      <td>Kamala Mills Compound</td>\n",
              "      <td>Lord of the Drinks</td>\n",
              "      <td>Lounge,Casual Dining</td>\n",
              "      <td>True</td>\n",
              "      <td>NaN</td>\n",
              "    </tr>\n",
              "    <tr>\n",
              "      <th>1</th>\n",
              "      <td>1</td>\n",
              "      <td>True</td>\n",
              "      <td>800</td>\n",
              "      <td>Pizza</td>\n",
              "      <td>NaN</td>\n",
              "      <td>Value For Money, Best of Mumbai</td>\n",
              "      <td>False</td>\n",
              "      <td>11am – 12:30AM (Mon-Sun)</td>\n",
              "      <td>4.6                                        597...</td>\n",
              "      <td>Malad West</td>\n",
              "      <td>Joey's Pizza</td>\n",
              "      <td>Quick Bites</td>\n",
              "      <td>True</td>\n",
              "      <td>NaN</td>\n",
              "    </tr>\n",
              "    <tr>\n",
              "      <th>2</th>\n",
              "      <td>4</td>\n",
              "      <td>True</td>\n",
              "      <td>2500</td>\n",
              "      <td>Seafood</td>\n",
              "      <td>NaN</td>\n",
              "      <td>Super Seafood, Best of Mumbai</td>\n",
              "      <td>False</td>\n",
              "      <td>Closed (Mon),12noon – 3pm, 7pm – 12midnight...</td>\n",
              "      <td>4.5                                        143...</td>\n",
              "      <td>Linking Road, Bandra West</td>\n",
              "      <td>Bastian</td>\n",
              "      <td>Casual Dining,Bar</td>\n",
              "      <td>True</td>\n",
              "      <td>NaN</td>\n",
              "    </tr>\n",
              "    <tr>\n",
              "      <th>3</th>\n",
              "      <td>4</td>\n",
              "      <td>True</td>\n",
              "      <td>1800</td>\n",
              "      <td>Finger Food, Continental</td>\n",
              "      <td>NaN</td>\n",
              "      <td>Where's The Party?, Best of Mumbai, Food Hygie...</td>\n",
              "      <td>False</td>\n",
              "      <td>12noon – 1am (Mon-Sun)</td>\n",
              "      <td>4.9                                        327...</td>\n",
              "      <td>Lower Parel</td>\n",
              "      <td>Tamasha</td>\n",
              "      <td>Lounge,Bar</td>\n",
              "      <td>True</td>\n",
              "      <td>NaN</td>\n",
              "    </tr>\n",
              "    <tr>\n",
              "      <th>4</th>\n",
              "      <td>2</td>\n",
              "      <td>True</td>\n",
              "      <td>450</td>\n",
              "      <td>North Indian, Street Food, Fast Food, Chinese</td>\n",
              "      <td>45</td>\n",
              "      <td>NaN</td>\n",
              "      <td>True</td>\n",
              "      <td>12noon – 4pm, 7pm – 11:45pm (Mon-Sun)</td>\n",
              "      <td>4.1                                        142...</td>\n",
              "      <td>Vashi</td>\n",
              "      <td>Bhagat Tarachand</td>\n",
              "      <td>Casual Dining</td>\n",
              "      <td>True</td>\n",
              "      <td>Rs. 0</td>\n",
              "    </tr>\n",
              "  </tbody>\n",
              "</table>\n",
              "</div>"
            ],
            "text/plain": [
              "   Additional_outlet_count  Call  ... View_Menu Delivery_cost\n",
              "0                        1  True  ...      True           NaN\n",
              "1                        1  True  ...      True           NaN\n",
              "2                        4  True  ...      True           NaN\n",
              "3                        4  True  ...      True           NaN\n",
              "4                        2  True  ...      True         Rs. 0\n",
              "\n",
              "[5 rows x 14 columns]"
            ]
          },
          "metadata": {},
          "execution_count": 18
        }
      ]
    },
    {
      "cell_type": "markdown",
      "metadata": {
        "id": "ce6iKWIxtTQh"
      },
      "source": [
        "### Delivery Time"
      ]
    },
    {
      "cell_type": "code",
      "metadata": {
        "id": "LI6G9RdNUaoC",
        "colab": {
          "base_uri": "https://localhost:8080/",
          "height": 581
        },
        "outputId": "53022cde-d6b4-42d1-edbd-31833dadd020"
      },
      "source": [
        "df['Delivery_Time'] = df['Delivery_Time'].astype(float)\n",
        "df['Delivery_Time'] = df['Delivery_Time'].fillna(df['Delivery_Time'].mean())\n",
        "df['Delivery_Time'] = df['Delivery_Time'].astype(int)\n",
        "df.head()"
      ],
      "execution_count": null,
      "outputs": [
        {
          "output_type": "execute_result",
          "data": {
            "text/html": [
              "<div>\n",
              "<style scoped>\n",
              "    .dataframe tbody tr th:only-of-type {\n",
              "        vertical-align: middle;\n",
              "    }\n",
              "\n",
              "    .dataframe tbody tr th {\n",
              "        vertical-align: top;\n",
              "    }\n",
              "\n",
              "    .dataframe thead th {\n",
              "        text-align: right;\n",
              "    }\n",
              "</style>\n",
              "<table border=\"1\" class=\"dataframe\">\n",
              "  <thead>\n",
              "    <tr style=\"text-align: right;\">\n",
              "      <th></th>\n",
              "      <th>Additional_outlet_count</th>\n",
              "      <th>Call</th>\n",
              "      <th>Cost_for_two</th>\n",
              "      <th>Cuisines</th>\n",
              "      <th>Delivery_Time</th>\n",
              "      <th>Features</th>\n",
              "      <th>Home_Delivery</th>\n",
              "      <th>Operational_hours</th>\n",
              "      <th>Rating_votes</th>\n",
              "      <th>Restaurant_Location</th>\n",
              "      <th>Restaurant_Name</th>\n",
              "      <th>Restaurant_Type</th>\n",
              "      <th>View_Menu</th>\n",
              "      <th>Delivery_cost</th>\n",
              "    </tr>\n",
              "  </thead>\n",
              "  <tbody>\n",
              "    <tr>\n",
              "      <th>0</th>\n",
              "      <td>1</td>\n",
              "      <td>True</td>\n",
              "      <td>1500</td>\n",
              "      <td>Finger Food, Continental, European, Italian</td>\n",
              "      <td>45</td>\n",
              "      <td>Food Hygiene Rated Restaurants In Mumbai, Best...</td>\n",
              "      <td>False</td>\n",
              "      <td>12noon – 1am (Mon-Sun)</td>\n",
              "      <td>4.9                                        132...</td>\n",
              "      <td>Kamala Mills Compound</td>\n",
              "      <td>Lord of the Drinks</td>\n",
              "      <td>Lounge,Casual Dining</td>\n",
              "      <td>True</td>\n",
              "      <td>NaN</td>\n",
              "    </tr>\n",
              "    <tr>\n",
              "      <th>1</th>\n",
              "      <td>1</td>\n",
              "      <td>True</td>\n",
              "      <td>800</td>\n",
              "      <td>Pizza</td>\n",
              "      <td>45</td>\n",
              "      <td>Value For Money, Best of Mumbai</td>\n",
              "      <td>False</td>\n",
              "      <td>11am – 12:30AM (Mon-Sun)</td>\n",
              "      <td>4.6                                        597...</td>\n",
              "      <td>Malad West</td>\n",
              "      <td>Joey's Pizza</td>\n",
              "      <td>Quick Bites</td>\n",
              "      <td>True</td>\n",
              "      <td>NaN</td>\n",
              "    </tr>\n",
              "    <tr>\n",
              "      <th>2</th>\n",
              "      <td>4</td>\n",
              "      <td>True</td>\n",
              "      <td>2500</td>\n",
              "      <td>Seafood</td>\n",
              "      <td>45</td>\n",
              "      <td>Super Seafood, Best of Mumbai</td>\n",
              "      <td>False</td>\n",
              "      <td>Closed (Mon),12noon – 3pm, 7pm – 12midnight...</td>\n",
              "      <td>4.5                                        143...</td>\n",
              "      <td>Linking Road, Bandra West</td>\n",
              "      <td>Bastian</td>\n",
              "      <td>Casual Dining,Bar</td>\n",
              "      <td>True</td>\n",
              "      <td>NaN</td>\n",
              "    </tr>\n",
              "    <tr>\n",
              "      <th>3</th>\n",
              "      <td>4</td>\n",
              "      <td>True</td>\n",
              "      <td>1800</td>\n",
              "      <td>Finger Food, Continental</td>\n",
              "      <td>45</td>\n",
              "      <td>Where's The Party?, Best of Mumbai, Food Hygie...</td>\n",
              "      <td>False</td>\n",
              "      <td>12noon – 1am (Mon-Sun)</td>\n",
              "      <td>4.9                                        327...</td>\n",
              "      <td>Lower Parel</td>\n",
              "      <td>Tamasha</td>\n",
              "      <td>Lounge,Bar</td>\n",
              "      <td>True</td>\n",
              "      <td>NaN</td>\n",
              "    </tr>\n",
              "    <tr>\n",
              "      <th>4</th>\n",
              "      <td>2</td>\n",
              "      <td>True</td>\n",
              "      <td>450</td>\n",
              "      <td>North Indian, Street Food, Fast Food, Chinese</td>\n",
              "      <td>45</td>\n",
              "      <td>NaN</td>\n",
              "      <td>True</td>\n",
              "      <td>12noon – 4pm, 7pm – 11:45pm (Mon-Sun)</td>\n",
              "      <td>4.1                                        142...</td>\n",
              "      <td>Vashi</td>\n",
              "      <td>Bhagat Tarachand</td>\n",
              "      <td>Casual Dining</td>\n",
              "      <td>True</td>\n",
              "      <td>Rs. 0</td>\n",
              "    </tr>\n",
              "  </tbody>\n",
              "</table>\n",
              "</div>"
            ],
            "text/plain": [
              "   Additional_outlet_count  Call  ... View_Menu Delivery_cost\n",
              "0                        1  True  ...      True           NaN\n",
              "1                        1  True  ...      True           NaN\n",
              "2                        4  True  ...      True           NaN\n",
              "3                        4  True  ...      True           NaN\n",
              "4                        2  True  ...      True         Rs. 0\n",
              "\n",
              "[5 rows x 14 columns]"
            ]
          },
          "metadata": {},
          "execution_count": 19
        }
      ]
    },
    {
      "cell_type": "markdown",
      "metadata": {
        "id": "esQIvERutZg6"
      },
      "source": [
        "### Delivery Cost"
      ]
    },
    {
      "cell_type": "code",
      "metadata": {
        "colab": {
          "base_uri": "https://localhost:8080/",
          "height": 35
        },
        "id": "gdR9ZD22tb-3",
        "outputId": "8faac8e6-9d28-4227-d502-208259a0686b"
      },
      "source": [
        "df['Delivery_cost'][4]"
      ],
      "execution_count": null,
      "outputs": [
        {
          "output_type": "execute_result",
          "data": {
            "application/vnd.google.colaboratory.intrinsic+json": {
              "type": "string"
            },
            "text/plain": [
              "'    Rs. 0'"
            ]
          },
          "metadata": {},
          "execution_count": 20
        }
      ]
    },
    {
      "cell_type": "code",
      "metadata": {
        "colab": {
          "base_uri": "https://localhost:8080/"
        },
        "id": "pXF20I-Vx7l2",
        "outputId": "16f00f57-3813-4c35-fbc2-02ad1183c5a2"
      },
      "source": [
        "def handle_del_cost(value):\n",
        "  value = str(value)\n",
        "  if '    Rs. ' in value:\n",
        "    value = value.replace('    Rs. ','')\n",
        "    return value\n",
        "  else:\n",
        "    return value\n",
        "df['Delivery_cost'] = df['Delivery_cost'].apply(handle_del_cost)\n",
        "df['Delivery_cost'].head(10)"
      ],
      "execution_count": null,
      "outputs": [
        {
          "output_type": "execute_result",
          "data": {
            "text/plain": [
              "0    nan\n",
              "1    nan\n",
              "2    nan\n",
              "3    nan\n",
              "4      0\n",
              "5    nan\n",
              "6      0\n",
              "7     99\n",
              "8    nan\n",
              "9    nan\n",
              "Name: Delivery_cost, dtype: object"
            ]
          },
          "metadata": {},
          "execution_count": 21
        }
      ]
    },
    {
      "cell_type": "code",
      "metadata": {
        "colab": {
          "base_uri": "https://localhost:8080/",
          "height": 581
        },
        "id": "bGIZj75ayUfz",
        "outputId": "293eb7b0-33e1-4328-ce0b-9a522a6bc3e5"
      },
      "source": [
        "df['Delivery_cost'] = df['Delivery_cost'].astype(float)\n",
        "df['Delivery_cost'] = df['Delivery_cost'].fillna(df['Delivery_cost'].mean())\n",
        "df['Delivery_cost'] = df['Delivery_cost'].astype(int)\n",
        "df.head()"
      ],
      "execution_count": null,
      "outputs": [
        {
          "output_type": "execute_result",
          "data": {
            "text/html": [
              "<div>\n",
              "<style scoped>\n",
              "    .dataframe tbody tr th:only-of-type {\n",
              "        vertical-align: middle;\n",
              "    }\n",
              "\n",
              "    .dataframe tbody tr th {\n",
              "        vertical-align: top;\n",
              "    }\n",
              "\n",
              "    .dataframe thead th {\n",
              "        text-align: right;\n",
              "    }\n",
              "</style>\n",
              "<table border=\"1\" class=\"dataframe\">\n",
              "  <thead>\n",
              "    <tr style=\"text-align: right;\">\n",
              "      <th></th>\n",
              "      <th>Additional_outlet_count</th>\n",
              "      <th>Call</th>\n",
              "      <th>Cost_for_two</th>\n",
              "      <th>Cuisines</th>\n",
              "      <th>Delivery_Time</th>\n",
              "      <th>Features</th>\n",
              "      <th>Home_Delivery</th>\n",
              "      <th>Operational_hours</th>\n",
              "      <th>Rating_votes</th>\n",
              "      <th>Restaurant_Location</th>\n",
              "      <th>Restaurant_Name</th>\n",
              "      <th>Restaurant_Type</th>\n",
              "      <th>View_Menu</th>\n",
              "      <th>Delivery_cost</th>\n",
              "    </tr>\n",
              "  </thead>\n",
              "  <tbody>\n",
              "    <tr>\n",
              "      <th>0</th>\n",
              "      <td>1</td>\n",
              "      <td>True</td>\n",
              "      <td>1500</td>\n",
              "      <td>Finger Food, Continental, European, Italian</td>\n",
              "      <td>45</td>\n",
              "      <td>Food Hygiene Rated Restaurants In Mumbai, Best...</td>\n",
              "      <td>False</td>\n",
              "      <td>12noon – 1am (Mon-Sun)</td>\n",
              "      <td>4.9                                        132...</td>\n",
              "      <td>Kamala Mills Compound</td>\n",
              "      <td>Lord of the Drinks</td>\n",
              "      <td>Lounge,Casual Dining</td>\n",
              "      <td>True</td>\n",
              "      <td>76</td>\n",
              "    </tr>\n",
              "    <tr>\n",
              "      <th>1</th>\n",
              "      <td>1</td>\n",
              "      <td>True</td>\n",
              "      <td>800</td>\n",
              "      <td>Pizza</td>\n",
              "      <td>45</td>\n",
              "      <td>Value For Money, Best of Mumbai</td>\n",
              "      <td>False</td>\n",
              "      <td>11am – 12:30AM (Mon-Sun)</td>\n",
              "      <td>4.6                                        597...</td>\n",
              "      <td>Malad West</td>\n",
              "      <td>Joey's Pizza</td>\n",
              "      <td>Quick Bites</td>\n",
              "      <td>True</td>\n",
              "      <td>76</td>\n",
              "    </tr>\n",
              "    <tr>\n",
              "      <th>2</th>\n",
              "      <td>4</td>\n",
              "      <td>True</td>\n",
              "      <td>2500</td>\n",
              "      <td>Seafood</td>\n",
              "      <td>45</td>\n",
              "      <td>Super Seafood, Best of Mumbai</td>\n",
              "      <td>False</td>\n",
              "      <td>Closed (Mon),12noon – 3pm, 7pm – 12midnight...</td>\n",
              "      <td>4.5                                        143...</td>\n",
              "      <td>Linking Road, Bandra West</td>\n",
              "      <td>Bastian</td>\n",
              "      <td>Casual Dining,Bar</td>\n",
              "      <td>True</td>\n",
              "      <td>76</td>\n",
              "    </tr>\n",
              "    <tr>\n",
              "      <th>3</th>\n",
              "      <td>4</td>\n",
              "      <td>True</td>\n",
              "      <td>1800</td>\n",
              "      <td>Finger Food, Continental</td>\n",
              "      <td>45</td>\n",
              "      <td>Where's The Party?, Best of Mumbai, Food Hygie...</td>\n",
              "      <td>False</td>\n",
              "      <td>12noon – 1am (Mon-Sun)</td>\n",
              "      <td>4.9                                        327...</td>\n",
              "      <td>Lower Parel</td>\n",
              "      <td>Tamasha</td>\n",
              "      <td>Lounge,Bar</td>\n",
              "      <td>True</td>\n",
              "      <td>76</td>\n",
              "    </tr>\n",
              "    <tr>\n",
              "      <th>4</th>\n",
              "      <td>2</td>\n",
              "      <td>True</td>\n",
              "      <td>450</td>\n",
              "      <td>North Indian, Street Food, Fast Food, Chinese</td>\n",
              "      <td>45</td>\n",
              "      <td>NaN</td>\n",
              "      <td>True</td>\n",
              "      <td>12noon – 4pm, 7pm – 11:45pm (Mon-Sun)</td>\n",
              "      <td>4.1                                        142...</td>\n",
              "      <td>Vashi</td>\n",
              "      <td>Bhagat Tarachand</td>\n",
              "      <td>Casual Dining</td>\n",
              "      <td>True</td>\n",
              "      <td>0</td>\n",
              "    </tr>\n",
              "  </tbody>\n",
              "</table>\n",
              "</div>"
            ],
            "text/plain": [
              "   Additional_outlet_count  Call  ... View_Menu Delivery_cost\n",
              "0                        1  True  ...      True            76\n",
              "1                        1  True  ...      True            76\n",
              "2                        4  True  ...      True            76\n",
              "3                        4  True  ...      True            76\n",
              "4                        2  True  ...      True             0\n",
              "\n",
              "[5 rows x 14 columns]"
            ]
          },
          "metadata": {},
          "execution_count": 22
        }
      ]
    },
    {
      "cell_type": "markdown",
      "metadata": {
        "id": "zqbqgyvh97M8"
      },
      "source": [
        "**Rating**"
      ]
    },
    {
      "cell_type": "code",
      "metadata": {
        "id": "bDJYP3bV-9qO"
      },
      "source": [
        "new = df[\"Rating_votes\"].str.split(\" \", n = 1, expand = True)"
      ],
      "execution_count": null,
      "outputs": []
    },
    {
      "cell_type": "code",
      "metadata": {
        "id": "IXUrAXm9_A6w"
      },
      "source": [
        "df[\"Rating\"]= new[0]\n"
      ],
      "execution_count": null,
      "outputs": []
    },
    {
      "cell_type": "code",
      "metadata": {
        "id": "Q6pS_EY5_EMi"
      },
      "source": [
        "df[\"votes\"]= new[1]"
      ],
      "execution_count": null,
      "outputs": []
    },
    {
      "cell_type": "code",
      "metadata": {
        "colab": {
          "base_uri": "https://localhost:8080/",
          "height": 1000
        },
        "id": "inp3Xh4S_HJx",
        "outputId": "c72fabdb-5a09-4cce-f9b1-bf53396a7d5c"
      },
      "source": [
        "del df['Rating_votes']\n",
        "df"
      ],
      "execution_count": null,
      "outputs": [
        {
          "output_type": "execute_result",
          "data": {
            "text/html": [
              "<div>\n",
              "<style scoped>\n",
              "    .dataframe tbody tr th:only-of-type {\n",
              "        vertical-align: middle;\n",
              "    }\n",
              "\n",
              "    .dataframe tbody tr th {\n",
              "        vertical-align: top;\n",
              "    }\n",
              "\n",
              "    .dataframe thead th {\n",
              "        text-align: right;\n",
              "    }\n",
              "</style>\n",
              "<table border=\"1\" class=\"dataframe\">\n",
              "  <thead>\n",
              "    <tr style=\"text-align: right;\">\n",
              "      <th></th>\n",
              "      <th>Additional_outlet_count</th>\n",
              "      <th>Call</th>\n",
              "      <th>Cost_for_two</th>\n",
              "      <th>Cuisines</th>\n",
              "      <th>Delivery_Time</th>\n",
              "      <th>Features</th>\n",
              "      <th>Home_Delivery</th>\n",
              "      <th>Operational_hours</th>\n",
              "      <th>Restaurant_Location</th>\n",
              "      <th>Restaurant_Name</th>\n",
              "      <th>Restaurant_Type</th>\n",
              "      <th>View_Menu</th>\n",
              "      <th>Delivery_cost</th>\n",
              "      <th>Rating</th>\n",
              "      <th>votes</th>\n",
              "    </tr>\n",
              "  </thead>\n",
              "  <tbody>\n",
              "    <tr>\n",
              "      <th>0</th>\n",
              "      <td>1</td>\n",
              "      <td>True</td>\n",
              "      <td>1500</td>\n",
              "      <td>Finger Food, Continental, European, Italian</td>\n",
              "      <td>45</td>\n",
              "      <td>Food Hygiene Rated Restaurants In Mumbai, Best...</td>\n",
              "      <td>False</td>\n",
              "      <td>12noon – 1am (Mon-Sun)</td>\n",
              "      <td>Kamala Mills Compound</td>\n",
              "      <td>Lord of the Drinks</td>\n",
              "      <td>Lounge,Casual Dining</td>\n",
              "      <td>True</td>\n",
              "      <td>76</td>\n",
              "      <td>4.9</td>\n",
              "      <td>1326 votes</td>\n",
              "    </tr>\n",
              "    <tr>\n",
              "      <th>1</th>\n",
              "      <td>1</td>\n",
              "      <td>True</td>\n",
              "      <td>800</td>\n",
              "      <td>Pizza</td>\n",
              "      <td>45</td>\n",
              "      <td>Value For Money, Best of Mumbai</td>\n",
              "      <td>False</td>\n",
              "      <td>11am – 12:30AM (Mon-Sun)</td>\n",
              "      <td>Malad West</td>\n",
              "      <td>Joey's Pizza</td>\n",
              "      <td>Quick Bites</td>\n",
              "      <td>True</td>\n",
              "      <td>76</td>\n",
              "      <td>4.6</td>\n",
              "      <td>5974 votes</td>\n",
              "    </tr>\n",
              "    <tr>\n",
              "      <th>2</th>\n",
              "      <td>4</td>\n",
              "      <td>True</td>\n",
              "      <td>2500</td>\n",
              "      <td>Seafood</td>\n",
              "      <td>45</td>\n",
              "      <td>Super Seafood, Best of Mumbai</td>\n",
              "      <td>False</td>\n",
              "      <td>Closed (Mon),12noon – 3pm, 7pm – 12midnight...</td>\n",
              "      <td>Linking Road, Bandra West</td>\n",
              "      <td>Bastian</td>\n",
              "      <td>Casual Dining,Bar</td>\n",
              "      <td>True</td>\n",
              "      <td>76</td>\n",
              "      <td>4.5</td>\n",
              "      <td>1438 votes</td>\n",
              "    </tr>\n",
              "    <tr>\n",
              "      <th>3</th>\n",
              "      <td>4</td>\n",
              "      <td>True</td>\n",
              "      <td>1800</td>\n",
              "      <td>Finger Food, Continental</td>\n",
              "      <td>45</td>\n",
              "      <td>Where's The Party?, Best of Mumbai, Food Hygie...</td>\n",
              "      <td>False</td>\n",
              "      <td>12noon – 1am (Mon-Sun)</td>\n",
              "      <td>Lower Parel</td>\n",
              "      <td>Tamasha</td>\n",
              "      <td>Lounge,Bar</td>\n",
              "      <td>True</td>\n",
              "      <td>76</td>\n",
              "      <td>4.9</td>\n",
              "      <td>3275 votes</td>\n",
              "    </tr>\n",
              "    <tr>\n",
              "      <th>4</th>\n",
              "      <td>2</td>\n",
              "      <td>True</td>\n",
              "      <td>450</td>\n",
              "      <td>North Indian, Street Food, Fast Food, Chinese</td>\n",
              "      <td>45</td>\n",
              "      <td>NaN</td>\n",
              "      <td>True</td>\n",
              "      <td>12noon – 4pm, 7pm – 11:45pm (Mon-Sun)</td>\n",
              "      <td>Vashi</td>\n",
              "      <td>Bhagat Tarachand</td>\n",
              "      <td>Casual Dining</td>\n",
              "      <td>True</td>\n",
              "      <td>0</td>\n",
              "      <td>4.1</td>\n",
              "      <td>1422 votes</td>\n",
              "    </tr>\n",
              "    <tr>\n",
              "      <th>...</th>\n",
              "      <td>...</td>\n",
              "      <td>...</td>\n",
              "      <td>...</td>\n",
              "      <td>...</td>\n",
              "      <td>...</td>\n",
              "      <td>...</td>\n",
              "      <td>...</td>\n",
              "      <td>...</td>\n",
              "      <td>...</td>\n",
              "      <td>...</td>\n",
              "      <td>...</td>\n",
              "      <td>...</td>\n",
              "      <td>...</td>\n",
              "      <td>...</td>\n",
              "      <td>...</td>\n",
              "    </tr>\n",
              "    <tr>\n",
              "      <th>7280</th>\n",
              "      <td>4</td>\n",
              "      <td>True</td>\n",
              "      <td>600</td>\n",
              "      <td>South Indian, North Indian, Chinese, Fast Food...</td>\n",
              "      <td>45</td>\n",
              "      <td>NaN</td>\n",
              "      <td>True</td>\n",
              "      <td>8am – 12midnight (Mon-Sun)</td>\n",
              "      <td>Chembur</td>\n",
              "      <td>Hotel Shreedevi</td>\n",
              "      <td>Casual Dining</td>\n",
              "      <td>True</td>\n",
              "      <td>99</td>\n",
              "      <td>3.5</td>\n",
              "      <td>115 votes</td>\n",
              "    </tr>\n",
              "    <tr>\n",
              "      <th>7281</th>\n",
              "      <td>4</td>\n",
              "      <td>True</td>\n",
              "      <td>550</td>\n",
              "      <td>Fast Food, North Indian</td>\n",
              "      <td>20</td>\n",
              "      <td>NaN</td>\n",
              "      <td>True</td>\n",
              "      <td>9am – 9pm (Mon, Wed, Thu, Fri, Sat, Sun), Clos...</td>\n",
              "      <td>Pali Hill, Bandra West</td>\n",
              "      <td>Mac Craig</td>\n",
              "      <td>Quick Bites</td>\n",
              "      <td>True</td>\n",
              "      <td>99</td>\n",
              "      <td>3.5</td>\n",
              "      <td>121 votes</td>\n",
              "    </tr>\n",
              "    <tr>\n",
              "      <th>7282</th>\n",
              "      <td>4</td>\n",
              "      <td>True</td>\n",
              "      <td>350</td>\n",
              "      <td>Fast Food, Beverages, Rolls</td>\n",
              "      <td>45</td>\n",
              "      <td>NaN</td>\n",
              "      <td>False</td>\n",
              "      <td>8am – 1:30am (Mon-Sun)</td>\n",
              "      <td>Juhu</td>\n",
              "      <td>Ice n Rolls</td>\n",
              "      <td>Quick Bites</td>\n",
              "      <td>True</td>\n",
              "      <td>76</td>\n",
              "      <td>3.5</td>\n",
              "      <td>213 votes</td>\n",
              "    </tr>\n",
              "    <tr>\n",
              "      <th>7283</th>\n",
              "      <td>4</td>\n",
              "      <td>True</td>\n",
              "      <td>2000</td>\n",
              "      <td>Seafood, Chinese</td>\n",
              "      <td>40</td>\n",
              "      <td>NaN</td>\n",
              "      <td>True</td>\n",
              "      <td>12noon – 12:30AM (Mon-Sun)</td>\n",
              "      <td>Hotel King's International, Juhu</td>\n",
              "      <td>Temple Flower - Hotel Kings International</td>\n",
              "      <td>Casual Dining</td>\n",
              "      <td>True</td>\n",
              "      <td>99</td>\n",
              "      <td>2.6</td>\n",
              "      <td>195 votes</td>\n",
              "    </tr>\n",
              "    <tr>\n",
              "      <th>7284</th>\n",
              "      <td>4</td>\n",
              "      <td>True</td>\n",
              "      <td>600</td>\n",
              "      <td>North Indian, Chinese, Seafood</td>\n",
              "      <td>45</td>\n",
              "      <td>NaN</td>\n",
              "      <td>False</td>\n",
              "      <td>11am – 12midnight (Mon-Sun)</td>\n",
              "      <td>CBD-Belapur</td>\n",
              "      <td>Turning Point</td>\n",
              "      <td>Casual Dining</td>\n",
              "      <td>True</td>\n",
              "      <td>76</td>\n",
              "      <td>3.4</td>\n",
              "      <td>53 votes</td>\n",
              "    </tr>\n",
              "  </tbody>\n",
              "</table>\n",
              "<p>7285 rows × 15 columns</p>\n",
              "</div>"
            ],
            "text/plain": [
              "      Additional_outlet_count  ...                                              votes\n",
              "0                           1  ...                                         1326 votes\n",
              "1                           1  ...                                         5974 votes\n",
              "2                           4  ...                                         1438 votes\n",
              "3                           4  ...                                         3275 votes\n",
              "4                           2  ...                                         1422 votes\n",
              "...                       ...  ...                                                ...\n",
              "7280                        4  ...                                          115 votes\n",
              "7281                        4  ...                                          121 votes\n",
              "7282                        4  ...                                          213 votes\n",
              "7283                        4  ...                                          195 votes\n",
              "7284                        4  ...                                           53 votes\n",
              "\n",
              "[7285 rows x 15 columns]"
            ]
          },
          "metadata": {},
          "execution_count": 26
        }
      ]
    },
    {
      "cell_type": "code",
      "metadata": {
        "id": "C7P_0mc1Xq1G",
        "colab": {
          "base_uri": "https://localhost:8080/"
        },
        "outputId": "a264f1f2-8dd7-4f4a-da04-33644fa6443d"
      },
      "source": [
        "df['Rating'].unique()"
      ],
      "execution_count": null,
      "outputs": [
        {
          "output_type": "execute_result",
          "data": {
            "text/plain": [
              "array(['4.9', '4.6', '4.5', '4.1', '4.8', '4.4', '4.7', 'NEW', '3.9',\n",
              "       '4.0', '4.2', '4.3', '3.8', '3.7', '3.6', '3.4', '3.5', '2.9',\n",
              "       '3.1', '3.3', '2.7', '3.2', '2.8', '2.4', '3.0', '2.1', '2.6',\n",
              "       '2.5', '2.3', '-', '2.0', '2.2', 'Opening'], dtype=object)"
            ]
          },
          "metadata": {},
          "execution_count": 27
        }
      ]
    },
    {
      "cell_type": "code",
      "metadata": {
        "id": "m1hH-0DZHZZz"
      },
      "source": [
        "df['Rating'] = np.where((df.Rating == '-'),'0',df.Rating)"
      ],
      "execution_count": null,
      "outputs": []
    },
    {
      "cell_type": "code",
      "metadata": {
        "colab": {
          "base_uri": "https://localhost:8080/"
        },
        "id": "Dtpzf1qfHvum",
        "outputId": "d5c5796d-6275-4955-83db-1528df364fdc"
      },
      "source": [
        "df['Rating'].unique()"
      ],
      "execution_count": null,
      "outputs": [
        {
          "output_type": "execute_result",
          "data": {
            "text/plain": [
              "array(['4.9', '4.6', '4.5', '4.1', '4.8', '4.4', '4.7', 'NEW', '3.9',\n",
              "       '4.0', '4.2', '4.3', '3.8', '3.7', '3.6', '3.4', '3.5', '2.9',\n",
              "       '3.1', '3.3', '2.7', '3.2', '2.8', '2.4', '3.0', '2.1', '2.6',\n",
              "       '2.5', '2.3', '0', '2.0', '2.2', 'Opening'], dtype=object)"
            ]
          },
          "metadata": {},
          "execution_count": 29
        }
      ]
    },
    {
      "cell_type": "code",
      "metadata": {
        "id": "nUYJo8BGH6s7"
      },
      "source": [
        "df['Rating'] = np.where((df.Rating == 'NEW'),'0',df.Rating)"
      ],
      "execution_count": null,
      "outputs": []
    },
    {
      "cell_type": "code",
      "metadata": {
        "id": "mdSCznFmBC6v"
      },
      "source": [
        "df['Rating'] = np.where((df.Rating == 'Opening'),'0',df.Rating)"
      ],
      "execution_count": null,
      "outputs": []
    },
    {
      "cell_type": "code",
      "metadata": {
        "colab": {
          "base_uri": "https://localhost:8080/"
        },
        "id": "940IKBVEIJYf",
        "outputId": "82f0cfa7-a9a7-4c35-9757-b06342810551"
      },
      "source": [
        "df['Rating'].unique()"
      ],
      "execution_count": null,
      "outputs": [
        {
          "output_type": "execute_result",
          "data": {
            "text/plain": [
              "array(['4.9', '4.6', '4.5', '4.1', '4.8', '4.4', '4.7', '0', '3.9', '4.0',\n",
              "       '4.2', '4.3', '3.8', '3.7', '3.6', '3.4', '3.5', '2.9', '3.1',\n",
              "       '3.3', '2.7', '3.2', '2.8', '2.4', '3.0', '2.1', '2.6', '2.5',\n",
              "       '2.3', '2.0', '2.2'], dtype=object)"
            ]
          },
          "metadata": {},
          "execution_count": 32
        }
      ]
    },
    {
      "cell_type": "markdown",
      "metadata": {
        "id": "3CoL3mvN9tOn"
      },
      "source": [
        " Votes"
      ]
    },
    {
      "cell_type": "code",
      "metadata": {
        "colab": {
          "base_uri": "https://localhost:8080/"
        },
        "id": "4lu8z3599wmn",
        "outputId": "331857cf-6a4e-4997-e9e3-c7178247ac58"
      },
      "source": [
        "df['votes'] = df['votes'].str.replace('votes','')\n",
        "df['votes']"
      ],
      "execution_count": null,
      "outputs": [
        {
          "output_type": "execute_result",
          "data": {
            "text/plain": [
              "0                                              1326 \n",
              "1                                              5974 \n",
              "2                                              1438 \n",
              "3                                              3275 \n",
              "4                                              1422 \n",
              "                            ...                     \n",
              "7280                                            115 \n",
              "7281                                            121 \n",
              "7282                                            213 \n",
              "7283                                            195 \n",
              "7284                                             53 \n",
              "Name: votes, Length: 7285, dtype: object"
            ]
          },
          "metadata": {},
          "execution_count": 33
        }
      ]
    },
    {
      "cell_type": "code",
      "metadata": {
        "colab": {
          "base_uri": "https://localhost:8080/"
        },
        "id": "DK0Ef9D5Bp2K",
        "outputId": "1728deab-28ff-4536-840b-d7c493a9df34"
      },
      "source": [
        "df['votes'].head(10)"
      ],
      "execution_count": null,
      "outputs": [
        {
          "output_type": "execute_result",
          "data": {
            "text/plain": [
              "0                                           1326 \n",
              "1                                           5974 \n",
              "2                                           1438 \n",
              "3                                           3275 \n",
              "4                                           1422 \n",
              "5                                           1989 \n",
              "6                                           1424 \n",
              "7                                           2640 \n",
              "8                                           4752 \n",
              "9                                            None\n",
              "Name: votes, dtype: object"
            ]
          },
          "metadata": {},
          "execution_count": 34
        }
      ]
    },
    {
      "cell_type": "code",
      "metadata": {
        "id": "YBS1fzPICDlh"
      },
      "source": [
        "def handlevot(value):\n",
        "    value=str(value)\n",
        "    if(value=='None' or value=='Soon'):\n",
        "        value = '0'\n",
        "        return value\n",
        "    else:\n",
        "        return value\n",
        "df['votes'] = df['votes'].apply(handlevot)"
      ],
      "execution_count": null,
      "outputs": []
    },
    {
      "cell_type": "code",
      "metadata": {
        "colab": {
          "base_uri": "https://localhost:8080/"
        },
        "id": "KiJYafCZCxA6",
        "outputId": "02acd969-bbff-4a15-f915-e40a2de4c9c5"
      },
      "source": [
        "df.votes = df.votes.astype(int)\n",
        "mean_vot = df.votes.mean()\n",
        "mean_vot = int(mean_vot)\n",
        "def meanvot(value):\n",
        "    if(value==0):\n",
        "        value = mean_vot\n",
        "        return value\n",
        "    else:\n",
        "        return value\n",
        "df['votes'] = df['votes'].apply(meanvot)\n",
        "df['votes'].head(10)"
      ],
      "execution_count": null,
      "outputs": [
        {
          "output_type": "execute_result",
          "data": {
            "text/plain": [
              "0    1326\n",
              "1    5974\n",
              "2    1438\n",
              "3    3275\n",
              "4    1422\n",
              "5    1989\n",
              "6    1424\n",
              "7    2640\n",
              "8    4752\n",
              "9     238\n",
              "Name: votes, dtype: int64"
            ]
          },
          "metadata": {},
          "execution_count": 36
        }
      ]
    },
    {
      "cell_type": "code",
      "metadata": {
        "colab": {
          "base_uri": "https://localhost:8080/",
          "height": 581
        },
        "id": "HgUsWPC09_mX",
        "outputId": "36282049-707f-47ce-fe56-6c420ebbb3a2"
      },
      "source": [
        "df.head()"
      ],
      "execution_count": null,
      "outputs": [
        {
          "output_type": "execute_result",
          "data": {
            "text/html": [
              "<div>\n",
              "<style scoped>\n",
              "    .dataframe tbody tr th:only-of-type {\n",
              "        vertical-align: middle;\n",
              "    }\n",
              "\n",
              "    .dataframe tbody tr th {\n",
              "        vertical-align: top;\n",
              "    }\n",
              "\n",
              "    .dataframe thead th {\n",
              "        text-align: right;\n",
              "    }\n",
              "</style>\n",
              "<table border=\"1\" class=\"dataframe\">\n",
              "  <thead>\n",
              "    <tr style=\"text-align: right;\">\n",
              "      <th></th>\n",
              "      <th>Additional_outlet_count</th>\n",
              "      <th>Call</th>\n",
              "      <th>Cost_for_two</th>\n",
              "      <th>Cuisines</th>\n",
              "      <th>Delivery_Time</th>\n",
              "      <th>Features</th>\n",
              "      <th>Home_Delivery</th>\n",
              "      <th>Operational_hours</th>\n",
              "      <th>Restaurant_Location</th>\n",
              "      <th>Restaurant_Name</th>\n",
              "      <th>Restaurant_Type</th>\n",
              "      <th>View_Menu</th>\n",
              "      <th>Delivery_cost</th>\n",
              "      <th>Rating</th>\n",
              "      <th>votes</th>\n",
              "    </tr>\n",
              "  </thead>\n",
              "  <tbody>\n",
              "    <tr>\n",
              "      <th>0</th>\n",
              "      <td>1</td>\n",
              "      <td>True</td>\n",
              "      <td>1500</td>\n",
              "      <td>Finger Food, Continental, European, Italian</td>\n",
              "      <td>45</td>\n",
              "      <td>Food Hygiene Rated Restaurants In Mumbai, Best...</td>\n",
              "      <td>False</td>\n",
              "      <td>12noon – 1am (Mon-Sun)</td>\n",
              "      <td>Kamala Mills Compound</td>\n",
              "      <td>Lord of the Drinks</td>\n",
              "      <td>Lounge,Casual Dining</td>\n",
              "      <td>True</td>\n",
              "      <td>76</td>\n",
              "      <td>4.9</td>\n",
              "      <td>1326</td>\n",
              "    </tr>\n",
              "    <tr>\n",
              "      <th>1</th>\n",
              "      <td>1</td>\n",
              "      <td>True</td>\n",
              "      <td>800</td>\n",
              "      <td>Pizza</td>\n",
              "      <td>45</td>\n",
              "      <td>Value For Money, Best of Mumbai</td>\n",
              "      <td>False</td>\n",
              "      <td>11am – 12:30AM (Mon-Sun)</td>\n",
              "      <td>Malad West</td>\n",
              "      <td>Joey's Pizza</td>\n",
              "      <td>Quick Bites</td>\n",
              "      <td>True</td>\n",
              "      <td>76</td>\n",
              "      <td>4.6</td>\n",
              "      <td>5974</td>\n",
              "    </tr>\n",
              "    <tr>\n",
              "      <th>2</th>\n",
              "      <td>4</td>\n",
              "      <td>True</td>\n",
              "      <td>2500</td>\n",
              "      <td>Seafood</td>\n",
              "      <td>45</td>\n",
              "      <td>Super Seafood, Best of Mumbai</td>\n",
              "      <td>False</td>\n",
              "      <td>Closed (Mon),12noon – 3pm, 7pm – 12midnight...</td>\n",
              "      <td>Linking Road, Bandra West</td>\n",
              "      <td>Bastian</td>\n",
              "      <td>Casual Dining,Bar</td>\n",
              "      <td>True</td>\n",
              "      <td>76</td>\n",
              "      <td>4.5</td>\n",
              "      <td>1438</td>\n",
              "    </tr>\n",
              "    <tr>\n",
              "      <th>3</th>\n",
              "      <td>4</td>\n",
              "      <td>True</td>\n",
              "      <td>1800</td>\n",
              "      <td>Finger Food, Continental</td>\n",
              "      <td>45</td>\n",
              "      <td>Where's The Party?, Best of Mumbai, Food Hygie...</td>\n",
              "      <td>False</td>\n",
              "      <td>12noon – 1am (Mon-Sun)</td>\n",
              "      <td>Lower Parel</td>\n",
              "      <td>Tamasha</td>\n",
              "      <td>Lounge,Bar</td>\n",
              "      <td>True</td>\n",
              "      <td>76</td>\n",
              "      <td>4.9</td>\n",
              "      <td>3275</td>\n",
              "    </tr>\n",
              "    <tr>\n",
              "      <th>4</th>\n",
              "      <td>2</td>\n",
              "      <td>True</td>\n",
              "      <td>450</td>\n",
              "      <td>North Indian, Street Food, Fast Food, Chinese</td>\n",
              "      <td>45</td>\n",
              "      <td>NaN</td>\n",
              "      <td>True</td>\n",
              "      <td>12noon – 4pm, 7pm – 11:45pm (Mon-Sun)</td>\n",
              "      <td>Vashi</td>\n",
              "      <td>Bhagat Tarachand</td>\n",
              "      <td>Casual Dining</td>\n",
              "      <td>True</td>\n",
              "      <td>0</td>\n",
              "      <td>4.1</td>\n",
              "      <td>1422</td>\n",
              "    </tr>\n",
              "  </tbody>\n",
              "</table>\n",
              "</div>"
            ],
            "text/plain": [
              "   Additional_outlet_count  Call Cost_for_two  ... Delivery_cost  Rating votes\n",
              "0                        1  True         1500  ...            76     4.9  1326\n",
              "1                        1  True          800  ...            76     4.6  5974\n",
              "2                        4  True         2500  ...            76     4.5  1438\n",
              "3                        4  True         1800  ...            76     4.9  3275\n",
              "4                        2  True          450  ...             0     4.1  1422\n",
              "\n",
              "[5 rows x 15 columns]"
            ]
          },
          "metadata": {},
          "execution_count": 37
        }
      ]
    },
    {
      "cell_type": "markdown",
      "metadata": {
        "id": "jUdi9mFsALTQ"
      },
      "source": [
        " Call and View Menu"
      ]
    },
    {
      "cell_type": "code",
      "metadata": {
        "colab": {
          "base_uri": "https://localhost:8080/"
        },
        "id": "rC3UInghEY7r",
        "outputId": "46c89bbe-b440-4b7b-ea49-41755b88a282"
      },
      "source": [
        "df['Call'].unique()"
      ],
      "execution_count": null,
      "outputs": [
        {
          "output_type": "execute_result",
          "data": {
            "text/plain": [
              "array([ True])"
            ]
          },
          "metadata": {},
          "execution_count": 38
        }
      ]
    },
    {
      "cell_type": "code",
      "metadata": {
        "id": "YEaUGZwuEmBU"
      },
      "source": [
        "del df['Call']"
      ],
      "execution_count": null,
      "outputs": []
    },
    {
      "cell_type": "code",
      "metadata": {
        "colab": {
          "base_uri": "https://localhost:8080/"
        },
        "id": "a99P7fNNEc7N",
        "outputId": "998da6c5-9bff-48c0-dfd3-5ed7409ad123"
      },
      "source": [
        "df['View_Menu'].unique()"
      ],
      "execution_count": null,
      "outputs": [
        {
          "output_type": "execute_result",
          "data": {
            "text/plain": [
              "array([ True])"
            ]
          },
          "metadata": {},
          "execution_count": 40
        }
      ]
    },
    {
      "cell_type": "code",
      "metadata": {
        "id": "Q0hAL1zIEsrO"
      },
      "source": [
        "del df['View_Menu']"
      ],
      "execution_count": null,
      "outputs": []
    },
    {
      "cell_type": "code",
      "metadata": {
        "colab": {
          "base_uri": "https://localhost:8080/",
          "height": 581
        },
        "id": "H-Nj5AoqAuMp",
        "outputId": "dc52b3e8-41da-4f1f-b0a3-ef4bf8cc87ef"
      },
      "source": [
        "df.head()"
      ],
      "execution_count": null,
      "outputs": [
        {
          "output_type": "execute_result",
          "data": {
            "text/html": [
              "<div>\n",
              "<style scoped>\n",
              "    .dataframe tbody tr th:only-of-type {\n",
              "        vertical-align: middle;\n",
              "    }\n",
              "\n",
              "    .dataframe tbody tr th {\n",
              "        vertical-align: top;\n",
              "    }\n",
              "\n",
              "    .dataframe thead th {\n",
              "        text-align: right;\n",
              "    }\n",
              "</style>\n",
              "<table border=\"1\" class=\"dataframe\">\n",
              "  <thead>\n",
              "    <tr style=\"text-align: right;\">\n",
              "      <th></th>\n",
              "      <th>Additional_outlet_count</th>\n",
              "      <th>Cost_for_two</th>\n",
              "      <th>Cuisines</th>\n",
              "      <th>Delivery_Time</th>\n",
              "      <th>Features</th>\n",
              "      <th>Home_Delivery</th>\n",
              "      <th>Operational_hours</th>\n",
              "      <th>Restaurant_Location</th>\n",
              "      <th>Restaurant_Name</th>\n",
              "      <th>Restaurant_Type</th>\n",
              "      <th>Delivery_cost</th>\n",
              "      <th>Rating</th>\n",
              "      <th>votes</th>\n",
              "    </tr>\n",
              "  </thead>\n",
              "  <tbody>\n",
              "    <tr>\n",
              "      <th>0</th>\n",
              "      <td>1</td>\n",
              "      <td>1500</td>\n",
              "      <td>Finger Food, Continental, European, Italian</td>\n",
              "      <td>45</td>\n",
              "      <td>Food Hygiene Rated Restaurants In Mumbai, Best...</td>\n",
              "      <td>False</td>\n",
              "      <td>12noon – 1am (Mon-Sun)</td>\n",
              "      <td>Kamala Mills Compound</td>\n",
              "      <td>Lord of the Drinks</td>\n",
              "      <td>Lounge,Casual Dining</td>\n",
              "      <td>76</td>\n",
              "      <td>4.9</td>\n",
              "      <td>1326</td>\n",
              "    </tr>\n",
              "    <tr>\n",
              "      <th>1</th>\n",
              "      <td>1</td>\n",
              "      <td>800</td>\n",
              "      <td>Pizza</td>\n",
              "      <td>45</td>\n",
              "      <td>Value For Money, Best of Mumbai</td>\n",
              "      <td>False</td>\n",
              "      <td>11am – 12:30AM (Mon-Sun)</td>\n",
              "      <td>Malad West</td>\n",
              "      <td>Joey's Pizza</td>\n",
              "      <td>Quick Bites</td>\n",
              "      <td>76</td>\n",
              "      <td>4.6</td>\n",
              "      <td>5974</td>\n",
              "    </tr>\n",
              "    <tr>\n",
              "      <th>2</th>\n",
              "      <td>4</td>\n",
              "      <td>2500</td>\n",
              "      <td>Seafood</td>\n",
              "      <td>45</td>\n",
              "      <td>Super Seafood, Best of Mumbai</td>\n",
              "      <td>False</td>\n",
              "      <td>Closed (Mon),12noon – 3pm, 7pm – 12midnight...</td>\n",
              "      <td>Linking Road, Bandra West</td>\n",
              "      <td>Bastian</td>\n",
              "      <td>Casual Dining,Bar</td>\n",
              "      <td>76</td>\n",
              "      <td>4.5</td>\n",
              "      <td>1438</td>\n",
              "    </tr>\n",
              "    <tr>\n",
              "      <th>3</th>\n",
              "      <td>4</td>\n",
              "      <td>1800</td>\n",
              "      <td>Finger Food, Continental</td>\n",
              "      <td>45</td>\n",
              "      <td>Where's The Party?, Best of Mumbai, Food Hygie...</td>\n",
              "      <td>False</td>\n",
              "      <td>12noon – 1am (Mon-Sun)</td>\n",
              "      <td>Lower Parel</td>\n",
              "      <td>Tamasha</td>\n",
              "      <td>Lounge,Bar</td>\n",
              "      <td>76</td>\n",
              "      <td>4.9</td>\n",
              "      <td>3275</td>\n",
              "    </tr>\n",
              "    <tr>\n",
              "      <th>4</th>\n",
              "      <td>2</td>\n",
              "      <td>450</td>\n",
              "      <td>North Indian, Street Food, Fast Food, Chinese</td>\n",
              "      <td>45</td>\n",
              "      <td>NaN</td>\n",
              "      <td>True</td>\n",
              "      <td>12noon – 4pm, 7pm – 11:45pm (Mon-Sun)</td>\n",
              "      <td>Vashi</td>\n",
              "      <td>Bhagat Tarachand</td>\n",
              "      <td>Casual Dining</td>\n",
              "      <td>0</td>\n",
              "      <td>4.1</td>\n",
              "      <td>1422</td>\n",
              "    </tr>\n",
              "  </tbody>\n",
              "</table>\n",
              "</div>"
            ],
            "text/plain": [
              "   Additional_outlet_count Cost_for_two  ... Rating  votes\n",
              "0                        1         1500  ...    4.9   1326\n",
              "1                        1          800  ...    4.6   5974\n",
              "2                        4         2500  ...    4.5   1438\n",
              "3                        4         1800  ...    4.9   3275\n",
              "4                        2          450  ...    4.1   1422\n",
              "\n",
              "[5 rows x 13 columns]"
            ]
          },
          "metadata": {},
          "execution_count": 42
        }
      ]
    },
    {
      "cell_type": "markdown",
      "metadata": {
        "id": "5nm9yUriATrj"
      },
      "source": [
        "Home Delivery"
      ]
    },
    {
      "cell_type": "code",
      "metadata": {
        "colab": {
          "base_uri": "https://localhost:8080/"
        },
        "id": "pGMfcBmLAVaT",
        "outputId": "61242fdb-8400-4053-a236-c4e7f55dd13d"
      },
      "source": [
        "df['Home_Delivery'] = df['Home_Delivery'].astype(int)\n",
        "df['Home_Delivery']"
      ],
      "execution_count": null,
      "outputs": [
        {
          "output_type": "execute_result",
          "data": {
            "text/plain": [
              "0       0\n",
              "1       0\n",
              "2       0\n",
              "3       0\n",
              "4       1\n",
              "       ..\n",
              "7280    1\n",
              "7281    1\n",
              "7282    0\n",
              "7283    1\n",
              "7284    0\n",
              "Name: Home_Delivery, Length: 7285, dtype: int64"
            ]
          },
          "metadata": {},
          "execution_count": 43
        }
      ]
    },
    {
      "cell_type": "code",
      "metadata": {
        "colab": {
          "base_uri": "https://localhost:8080/",
          "height": 581
        },
        "id": "w9I4vDbpAgL4",
        "outputId": "1242ed96-f1d6-45c6-d736-c22d9fcffbc3"
      },
      "source": [
        "df.head()"
      ],
      "execution_count": null,
      "outputs": [
        {
          "output_type": "execute_result",
          "data": {
            "text/html": [
              "<div>\n",
              "<style scoped>\n",
              "    .dataframe tbody tr th:only-of-type {\n",
              "        vertical-align: middle;\n",
              "    }\n",
              "\n",
              "    .dataframe tbody tr th {\n",
              "        vertical-align: top;\n",
              "    }\n",
              "\n",
              "    .dataframe thead th {\n",
              "        text-align: right;\n",
              "    }\n",
              "</style>\n",
              "<table border=\"1\" class=\"dataframe\">\n",
              "  <thead>\n",
              "    <tr style=\"text-align: right;\">\n",
              "      <th></th>\n",
              "      <th>Additional_outlet_count</th>\n",
              "      <th>Cost_for_two</th>\n",
              "      <th>Cuisines</th>\n",
              "      <th>Delivery_Time</th>\n",
              "      <th>Features</th>\n",
              "      <th>Home_Delivery</th>\n",
              "      <th>Operational_hours</th>\n",
              "      <th>Restaurant_Location</th>\n",
              "      <th>Restaurant_Name</th>\n",
              "      <th>Restaurant_Type</th>\n",
              "      <th>Delivery_cost</th>\n",
              "      <th>Rating</th>\n",
              "      <th>votes</th>\n",
              "    </tr>\n",
              "  </thead>\n",
              "  <tbody>\n",
              "    <tr>\n",
              "      <th>0</th>\n",
              "      <td>1</td>\n",
              "      <td>1500</td>\n",
              "      <td>Finger Food, Continental, European, Italian</td>\n",
              "      <td>45</td>\n",
              "      <td>Food Hygiene Rated Restaurants In Mumbai, Best...</td>\n",
              "      <td>0</td>\n",
              "      <td>12noon – 1am (Mon-Sun)</td>\n",
              "      <td>Kamala Mills Compound</td>\n",
              "      <td>Lord of the Drinks</td>\n",
              "      <td>Lounge,Casual Dining</td>\n",
              "      <td>76</td>\n",
              "      <td>4.9</td>\n",
              "      <td>1326</td>\n",
              "    </tr>\n",
              "    <tr>\n",
              "      <th>1</th>\n",
              "      <td>1</td>\n",
              "      <td>800</td>\n",
              "      <td>Pizza</td>\n",
              "      <td>45</td>\n",
              "      <td>Value For Money, Best of Mumbai</td>\n",
              "      <td>0</td>\n",
              "      <td>11am – 12:30AM (Mon-Sun)</td>\n",
              "      <td>Malad West</td>\n",
              "      <td>Joey's Pizza</td>\n",
              "      <td>Quick Bites</td>\n",
              "      <td>76</td>\n",
              "      <td>4.6</td>\n",
              "      <td>5974</td>\n",
              "    </tr>\n",
              "    <tr>\n",
              "      <th>2</th>\n",
              "      <td>4</td>\n",
              "      <td>2500</td>\n",
              "      <td>Seafood</td>\n",
              "      <td>45</td>\n",
              "      <td>Super Seafood, Best of Mumbai</td>\n",
              "      <td>0</td>\n",
              "      <td>Closed (Mon),12noon – 3pm, 7pm – 12midnight...</td>\n",
              "      <td>Linking Road, Bandra West</td>\n",
              "      <td>Bastian</td>\n",
              "      <td>Casual Dining,Bar</td>\n",
              "      <td>76</td>\n",
              "      <td>4.5</td>\n",
              "      <td>1438</td>\n",
              "    </tr>\n",
              "    <tr>\n",
              "      <th>3</th>\n",
              "      <td>4</td>\n",
              "      <td>1800</td>\n",
              "      <td>Finger Food, Continental</td>\n",
              "      <td>45</td>\n",
              "      <td>Where's The Party?, Best of Mumbai, Food Hygie...</td>\n",
              "      <td>0</td>\n",
              "      <td>12noon – 1am (Mon-Sun)</td>\n",
              "      <td>Lower Parel</td>\n",
              "      <td>Tamasha</td>\n",
              "      <td>Lounge,Bar</td>\n",
              "      <td>76</td>\n",
              "      <td>4.9</td>\n",
              "      <td>3275</td>\n",
              "    </tr>\n",
              "    <tr>\n",
              "      <th>4</th>\n",
              "      <td>2</td>\n",
              "      <td>450</td>\n",
              "      <td>North Indian, Street Food, Fast Food, Chinese</td>\n",
              "      <td>45</td>\n",
              "      <td>NaN</td>\n",
              "      <td>1</td>\n",
              "      <td>12noon – 4pm, 7pm – 11:45pm (Mon-Sun)</td>\n",
              "      <td>Vashi</td>\n",
              "      <td>Bhagat Tarachand</td>\n",
              "      <td>Casual Dining</td>\n",
              "      <td>0</td>\n",
              "      <td>4.1</td>\n",
              "      <td>1422</td>\n",
              "    </tr>\n",
              "  </tbody>\n",
              "</table>\n",
              "</div>"
            ],
            "text/plain": [
              "   Additional_outlet_count Cost_for_two  ... Rating  votes\n",
              "0                        1         1500  ...    4.9   1326\n",
              "1                        1          800  ...    4.6   5974\n",
              "2                        4         2500  ...    4.5   1438\n",
              "3                        4         1800  ...    4.9   3275\n",
              "4                        2          450  ...    4.1   1422\n",
              "\n",
              "[5 rows x 13 columns]"
            ]
          },
          "metadata": {},
          "execution_count": 44
        }
      ]
    },
    {
      "cell_type": "markdown",
      "metadata": {
        "id": "cFy92jRYyBqy"
      },
      "source": [
        "## Cuisines"
      ]
    },
    {
      "cell_type": "code",
      "metadata": {
        "colab": {
          "base_uri": "https://localhost:8080/"
        },
        "id": "K3M-7eFiyAvq",
        "outputId": "31d4b44f-a91e-4b69-ca4a-0f9455dcbb7b"
      },
      "source": [
        "df['Cuisines'].isna().sum()"
      ],
      "execution_count": null,
      "outputs": [
        {
          "output_type": "execute_result",
          "data": {
            "text/plain": [
              "1"
            ]
          },
          "metadata": {},
          "execution_count": 45
        }
      ]
    },
    {
      "cell_type": "code",
      "metadata": {
        "colab": {
          "base_uri": "https://localhost:8080/",
          "height": 419
        },
        "id": "8wxrpq3vyIyt",
        "outputId": "06ce1782-b658-41f4-b411-450392572fac"
      },
      "source": [
        "df['Cuisines'] = df['Cuisines'].fillna(\"\")\n",
        "df['Cuisine_count'] = df['Cuisines'].apply(lambda n:len(n.split(',')))\n",
        "df[['Cuisines','Cuisine_count']]"
      ],
      "execution_count": null,
      "outputs": [
        {
          "output_type": "execute_result",
          "data": {
            "text/html": [
              "<div>\n",
              "<style scoped>\n",
              "    .dataframe tbody tr th:only-of-type {\n",
              "        vertical-align: middle;\n",
              "    }\n",
              "\n",
              "    .dataframe tbody tr th {\n",
              "        vertical-align: top;\n",
              "    }\n",
              "\n",
              "    .dataframe thead th {\n",
              "        text-align: right;\n",
              "    }\n",
              "</style>\n",
              "<table border=\"1\" class=\"dataframe\">\n",
              "  <thead>\n",
              "    <tr style=\"text-align: right;\">\n",
              "      <th></th>\n",
              "      <th>Cuisines</th>\n",
              "      <th>Cuisine_count</th>\n",
              "    </tr>\n",
              "  </thead>\n",
              "  <tbody>\n",
              "    <tr>\n",
              "      <th>0</th>\n",
              "      <td>Finger Food, Continental, European, Italian</td>\n",
              "      <td>4</td>\n",
              "    </tr>\n",
              "    <tr>\n",
              "      <th>1</th>\n",
              "      <td>Pizza</td>\n",
              "      <td>1</td>\n",
              "    </tr>\n",
              "    <tr>\n",
              "      <th>2</th>\n",
              "      <td>Seafood</td>\n",
              "      <td>1</td>\n",
              "    </tr>\n",
              "    <tr>\n",
              "      <th>3</th>\n",
              "      <td>Finger Food, Continental</td>\n",
              "      <td>2</td>\n",
              "    </tr>\n",
              "    <tr>\n",
              "      <th>4</th>\n",
              "      <td>North Indian, Street Food, Fast Food, Chinese</td>\n",
              "      <td>4</td>\n",
              "    </tr>\n",
              "    <tr>\n",
              "      <th>...</th>\n",
              "      <td>...</td>\n",
              "      <td>...</td>\n",
              "    </tr>\n",
              "    <tr>\n",
              "      <th>7280</th>\n",
              "      <td>South Indian, North Indian, Chinese, Fast Food...</td>\n",
              "      <td>5</td>\n",
              "    </tr>\n",
              "    <tr>\n",
              "      <th>7281</th>\n",
              "      <td>Fast Food, North Indian</td>\n",
              "      <td>2</td>\n",
              "    </tr>\n",
              "    <tr>\n",
              "      <th>7282</th>\n",
              "      <td>Fast Food, Beverages, Rolls</td>\n",
              "      <td>3</td>\n",
              "    </tr>\n",
              "    <tr>\n",
              "      <th>7283</th>\n",
              "      <td>Seafood, Chinese</td>\n",
              "      <td>2</td>\n",
              "    </tr>\n",
              "    <tr>\n",
              "      <th>7284</th>\n",
              "      <td>North Indian, Chinese, Seafood</td>\n",
              "      <td>3</td>\n",
              "    </tr>\n",
              "  </tbody>\n",
              "</table>\n",
              "<p>7285 rows × 2 columns</p>\n",
              "</div>"
            ],
            "text/plain": [
              "                                               Cuisines  Cuisine_count\n",
              "0           Finger Food, Continental, European, Italian              4\n",
              "1                                                 Pizza              1\n",
              "2                                               Seafood              1\n",
              "3                              Finger Food, Continental              2\n",
              "4         North Indian, Street Food, Fast Food, Chinese              4\n",
              "...                                                 ...            ...\n",
              "7280  South Indian, North Indian, Chinese, Fast Food...              5\n",
              "7281                            Fast Food, North Indian              2\n",
              "7282                        Fast Food, Beverages, Rolls              3\n",
              "7283                                   Seafood, Chinese              2\n",
              "7284                     North Indian, Chinese, Seafood              3\n",
              "\n",
              "[7285 rows x 2 columns]"
            ]
          },
          "metadata": {},
          "execution_count": 46
        }
      ]
    },
    {
      "cell_type": "markdown",
      "metadata": {
        "id": "g77HcX5TyorV"
      },
      "source": [
        "## Features"
      ]
    },
    {
      "cell_type": "code",
      "metadata": {
        "colab": {
          "base_uri": "https://localhost:8080/"
        },
        "id": "cJfDCc4ryj4O",
        "outputId": "889f6476-4208-40aa-db00-068b32dcc5c6"
      },
      "source": [
        "df['Features'].isna().sum()"
      ],
      "execution_count": null,
      "outputs": [
        {
          "output_type": "execute_result",
          "data": {
            "text/plain": [
              "5695"
            ]
          },
          "metadata": {},
          "execution_count": 47
        }
      ]
    },
    {
      "cell_type": "code",
      "metadata": {
        "colab": {
          "base_uri": "https://localhost:8080/",
          "height": 419
        },
        "id": "BhQvT0f8ytZC",
        "outputId": "bdb75fc5-4eb6-44b4-cc9b-7cfee254c51c"
      },
      "source": [
        "df['Features'] = df['Features'].fillna(\"\")\n",
        "df['Feature_count'] = df['Features'].apply(lambda n:len(n.split(',')))\n",
        "df[['Features','Feature_count']]"
      ],
      "execution_count": null,
      "outputs": [
        {
          "output_type": "execute_result",
          "data": {
            "text/html": [
              "<div>\n",
              "<style scoped>\n",
              "    .dataframe tbody tr th:only-of-type {\n",
              "        vertical-align: middle;\n",
              "    }\n",
              "\n",
              "    .dataframe tbody tr th {\n",
              "        vertical-align: top;\n",
              "    }\n",
              "\n",
              "    .dataframe thead th {\n",
              "        text-align: right;\n",
              "    }\n",
              "</style>\n",
              "<table border=\"1\" class=\"dataframe\">\n",
              "  <thead>\n",
              "    <tr style=\"text-align: right;\">\n",
              "      <th></th>\n",
              "      <th>Features</th>\n",
              "      <th>Feature_count</th>\n",
              "    </tr>\n",
              "  </thead>\n",
              "  <tbody>\n",
              "    <tr>\n",
              "      <th>0</th>\n",
              "      <td>Food Hygiene Rated Restaurants In Mumbai, Best...</td>\n",
              "      <td>2</td>\n",
              "    </tr>\n",
              "    <tr>\n",
              "      <th>1</th>\n",
              "      <td>Value For Money, Best of Mumbai</td>\n",
              "      <td>2</td>\n",
              "    </tr>\n",
              "    <tr>\n",
              "      <th>2</th>\n",
              "      <td>Super Seafood, Best of Mumbai</td>\n",
              "      <td>2</td>\n",
              "    </tr>\n",
              "    <tr>\n",
              "      <th>3</th>\n",
              "      <td>Where's The Party?, Best of Mumbai, Food Hygie...</td>\n",
              "      <td>3</td>\n",
              "    </tr>\n",
              "    <tr>\n",
              "      <th>4</th>\n",
              "      <td></td>\n",
              "      <td>1</td>\n",
              "    </tr>\n",
              "    <tr>\n",
              "      <th>...</th>\n",
              "      <td>...</td>\n",
              "      <td>...</td>\n",
              "    </tr>\n",
              "    <tr>\n",
              "      <th>7280</th>\n",
              "      <td></td>\n",
              "      <td>1</td>\n",
              "    </tr>\n",
              "    <tr>\n",
              "      <th>7281</th>\n",
              "      <td></td>\n",
              "      <td>1</td>\n",
              "    </tr>\n",
              "    <tr>\n",
              "      <th>7282</th>\n",
              "      <td></td>\n",
              "      <td>1</td>\n",
              "    </tr>\n",
              "    <tr>\n",
              "      <th>7283</th>\n",
              "      <td></td>\n",
              "      <td>1</td>\n",
              "    </tr>\n",
              "    <tr>\n",
              "      <th>7284</th>\n",
              "      <td></td>\n",
              "      <td>1</td>\n",
              "    </tr>\n",
              "  </tbody>\n",
              "</table>\n",
              "<p>7285 rows × 2 columns</p>\n",
              "</div>"
            ],
            "text/plain": [
              "                                               Features  Feature_count\n",
              "0     Food Hygiene Rated Restaurants In Mumbai, Best...              2\n",
              "1                       Value For Money, Best of Mumbai              2\n",
              "2                         Super Seafood, Best of Mumbai              2\n",
              "3     Where's The Party?, Best of Mumbai, Food Hygie...              3\n",
              "4                                                                    1\n",
              "...                                                 ...            ...\n",
              "7280                                                                 1\n",
              "7281                                                                 1\n",
              "7282                                                                 1\n",
              "7283                                                                 1\n",
              "7284                                                                 1\n",
              "\n",
              "[7285 rows x 2 columns]"
            ]
          },
          "metadata": {},
          "execution_count": 48
        }
      ]
    },
    {
      "cell_type": "markdown",
      "metadata": {
        "id": "tgQ593ngy6tb"
      },
      "source": [
        "## Restaurant type"
      ]
    },
    {
      "cell_type": "code",
      "metadata": {
        "colab": {
          "base_uri": "https://localhost:8080/"
        },
        "id": "jAkdCr6jy-JS",
        "outputId": "2357508c-888f-4e8c-d4c1-11a0701098db"
      },
      "source": [
        "df['Restaurant_Type'].isna().sum()"
      ],
      "execution_count": null,
      "outputs": [
        {
          "output_type": "execute_result",
          "data": {
            "text/plain": [
              "656"
            ]
          },
          "metadata": {},
          "execution_count": 49
        }
      ]
    },
    {
      "cell_type": "code",
      "metadata": {
        "colab": {
          "base_uri": "https://localhost:8080/",
          "height": 419
        },
        "id": "gtybjUiCy4q0",
        "outputId": "7a5f9188-fd34-4f84-87b4-a67b76f8d74c"
      },
      "source": [
        "df['Restaurant_Type'] = df['Restaurant_Type'].fillna(\"\")\n",
        "df['Rest_type_count'] = df['Restaurant_Type'].apply(lambda n:len(n.split(',')))\n",
        "df[['Restaurant_Type','Rest_type_count']]"
      ],
      "execution_count": null,
      "outputs": [
        {
          "output_type": "execute_result",
          "data": {
            "text/html": [
              "<div>\n",
              "<style scoped>\n",
              "    .dataframe tbody tr th:only-of-type {\n",
              "        vertical-align: middle;\n",
              "    }\n",
              "\n",
              "    .dataframe tbody tr th {\n",
              "        vertical-align: top;\n",
              "    }\n",
              "\n",
              "    .dataframe thead th {\n",
              "        text-align: right;\n",
              "    }\n",
              "</style>\n",
              "<table border=\"1\" class=\"dataframe\">\n",
              "  <thead>\n",
              "    <tr style=\"text-align: right;\">\n",
              "      <th></th>\n",
              "      <th>Restaurant_Type</th>\n",
              "      <th>Rest_type_count</th>\n",
              "    </tr>\n",
              "  </thead>\n",
              "  <tbody>\n",
              "    <tr>\n",
              "      <th>0</th>\n",
              "      <td>Lounge,Casual Dining</td>\n",
              "      <td>2</td>\n",
              "    </tr>\n",
              "    <tr>\n",
              "      <th>1</th>\n",
              "      <td>Quick Bites</td>\n",
              "      <td>1</td>\n",
              "    </tr>\n",
              "    <tr>\n",
              "      <th>2</th>\n",
              "      <td>Casual Dining,Bar</td>\n",
              "      <td>2</td>\n",
              "    </tr>\n",
              "    <tr>\n",
              "      <th>3</th>\n",
              "      <td>Lounge,Bar</td>\n",
              "      <td>2</td>\n",
              "    </tr>\n",
              "    <tr>\n",
              "      <th>4</th>\n",
              "      <td>Casual Dining</td>\n",
              "      <td>1</td>\n",
              "    </tr>\n",
              "    <tr>\n",
              "      <th>...</th>\n",
              "      <td>...</td>\n",
              "      <td>...</td>\n",
              "    </tr>\n",
              "    <tr>\n",
              "      <th>7280</th>\n",
              "      <td>Casual Dining</td>\n",
              "      <td>1</td>\n",
              "    </tr>\n",
              "    <tr>\n",
              "      <th>7281</th>\n",
              "      <td>Quick Bites</td>\n",
              "      <td>1</td>\n",
              "    </tr>\n",
              "    <tr>\n",
              "      <th>7282</th>\n",
              "      <td>Quick Bites</td>\n",
              "      <td>1</td>\n",
              "    </tr>\n",
              "    <tr>\n",
              "      <th>7283</th>\n",
              "      <td>Casual Dining</td>\n",
              "      <td>1</td>\n",
              "    </tr>\n",
              "    <tr>\n",
              "      <th>7284</th>\n",
              "      <td>Casual Dining</td>\n",
              "      <td>1</td>\n",
              "    </tr>\n",
              "  </tbody>\n",
              "</table>\n",
              "<p>7285 rows × 2 columns</p>\n",
              "</div>"
            ],
            "text/plain": [
              "           Restaurant_Type  Rest_type_count\n",
              "0     Lounge,Casual Dining                2\n",
              "1              Quick Bites                1\n",
              "2        Casual Dining,Bar                2\n",
              "3               Lounge,Bar                2\n",
              "4            Casual Dining                1\n",
              "...                    ...              ...\n",
              "7280         Casual Dining                1\n",
              "7281           Quick Bites                1\n",
              "7282           Quick Bites                1\n",
              "7283         Casual Dining                1\n",
              "7284         Casual Dining                1\n",
              "\n",
              "[7285 rows x 2 columns]"
            ]
          },
          "metadata": {},
          "execution_count": 50
        }
      ]
    },
    {
      "cell_type": "code",
      "metadata": {
        "colab": {
          "base_uri": "https://localhost:8080/"
        },
        "id": "EhTWLLElV2ZS",
        "outputId": "1d4980e0-de64-4555-a64c-ee2b89f7909b"
      },
      "source": [
        "df['Restaurant_Type'].value_counts()"
      ],
      "execution_count": null,
      "outputs": [
        {
          "output_type": "execute_result",
          "data": {
            "text/plain": [
              "Casual Dining                 2899\n",
              "Quick Bites                   1976\n",
              "                               656\n",
              "Café                           264\n",
              "Dessert Parlor                 252\n",
              "                              ... \n",
              "Irani Cafe                       1\n",
              "Microbrewery,Bar                 1\n",
              "Casual Dining,Cocktail Bar       1\n",
              "Irani Cafe,Bakery                1\n",
              "Bar,Fine Dining                  1\n",
              "Name: Restaurant_Type, Length: 76, dtype: int64"
            ]
          },
          "metadata": {},
          "execution_count": 51
        }
      ]
    },
    {
      "cell_type": "code",
      "metadata": {
        "colab": {
          "base_uri": "https://localhost:8080/"
        },
        "id": "3ugEfGDMPQQb",
        "outputId": "2f7b2a5d-2801-46ae-8901-bebb4278ac8d"
      },
      "source": [
        "Type = df['Restaurant_Type'].value_counts(ascending=False)\n",
        "Type_50 = Type[Type<50]\n",
        "\n",
        "def handletype(value):\n",
        "  value=str(value)\n",
        "  if value in Type_50:\n",
        "    return 'Others'\n",
        "  else:\n",
        "    return value\n",
        "\n",
        "df['Restaurant_Type'] = df['Restaurant_Type'].apply(handletype)\n",
        "df['Restaurant_Type'].value_counts()"
      ],
      "execution_count": null,
      "outputs": [
        {
          "output_type": "execute_result",
          "data": {
            "text/plain": [
              "Casual Dining            2899\n",
              "Quick Bites              1976\n",
              "                          656\n",
              "Others                    483\n",
              "Café                      264\n",
              "Dessert Parlor            252\n",
              "Bakery                    214\n",
              "Casual Dining,Bar         164\n",
              "Fine Dining               133\n",
              "Beverage Shop              65\n",
              "Lounge                     61\n",
              "Bakery,Dessert Parlor      61\n",
              "Sweet Shop                 57\n",
              "Name: Restaurant_Type, dtype: int64"
            ]
          },
          "metadata": {},
          "execution_count": 52
        }
      ]
    },
    {
      "cell_type": "code",
      "metadata": {
        "id": "S1gK9178zQ7Q",
        "colab": {
          "base_uri": "https://localhost:8080/",
          "height": 581
        },
        "outputId": "a11792e3-2650-464d-f6e6-da151f6ba7b3"
      },
      "source": [
        "df.head()"
      ],
      "execution_count": null,
      "outputs": [
        {
          "output_type": "execute_result",
          "data": {
            "text/html": [
              "<div>\n",
              "<style scoped>\n",
              "    .dataframe tbody tr th:only-of-type {\n",
              "        vertical-align: middle;\n",
              "    }\n",
              "\n",
              "    .dataframe tbody tr th {\n",
              "        vertical-align: top;\n",
              "    }\n",
              "\n",
              "    .dataframe thead th {\n",
              "        text-align: right;\n",
              "    }\n",
              "</style>\n",
              "<table border=\"1\" class=\"dataframe\">\n",
              "  <thead>\n",
              "    <tr style=\"text-align: right;\">\n",
              "      <th></th>\n",
              "      <th>Additional_outlet_count</th>\n",
              "      <th>Cost_for_two</th>\n",
              "      <th>Cuisines</th>\n",
              "      <th>Delivery_Time</th>\n",
              "      <th>Features</th>\n",
              "      <th>Home_Delivery</th>\n",
              "      <th>Operational_hours</th>\n",
              "      <th>Restaurant_Location</th>\n",
              "      <th>Restaurant_Name</th>\n",
              "      <th>Restaurant_Type</th>\n",
              "      <th>Delivery_cost</th>\n",
              "      <th>Rating</th>\n",
              "      <th>votes</th>\n",
              "      <th>Cuisine_count</th>\n",
              "      <th>Feature_count</th>\n",
              "      <th>Rest_type_count</th>\n",
              "    </tr>\n",
              "  </thead>\n",
              "  <tbody>\n",
              "    <tr>\n",
              "      <th>0</th>\n",
              "      <td>1</td>\n",
              "      <td>1500</td>\n",
              "      <td>Finger Food, Continental, European, Italian</td>\n",
              "      <td>45</td>\n",
              "      <td>Food Hygiene Rated Restaurants In Mumbai, Best...</td>\n",
              "      <td>0</td>\n",
              "      <td>12noon – 1am (Mon-Sun)</td>\n",
              "      <td>Kamala Mills Compound</td>\n",
              "      <td>Lord of the Drinks</td>\n",
              "      <td>Others</td>\n",
              "      <td>76</td>\n",
              "      <td>4.9</td>\n",
              "      <td>1326</td>\n",
              "      <td>4</td>\n",
              "      <td>2</td>\n",
              "      <td>2</td>\n",
              "    </tr>\n",
              "    <tr>\n",
              "      <th>1</th>\n",
              "      <td>1</td>\n",
              "      <td>800</td>\n",
              "      <td>Pizza</td>\n",
              "      <td>45</td>\n",
              "      <td>Value For Money, Best of Mumbai</td>\n",
              "      <td>0</td>\n",
              "      <td>11am – 12:30AM (Mon-Sun)</td>\n",
              "      <td>Malad West</td>\n",
              "      <td>Joey's Pizza</td>\n",
              "      <td>Quick Bites</td>\n",
              "      <td>76</td>\n",
              "      <td>4.6</td>\n",
              "      <td>5974</td>\n",
              "      <td>1</td>\n",
              "      <td>2</td>\n",
              "      <td>1</td>\n",
              "    </tr>\n",
              "    <tr>\n",
              "      <th>2</th>\n",
              "      <td>4</td>\n",
              "      <td>2500</td>\n",
              "      <td>Seafood</td>\n",
              "      <td>45</td>\n",
              "      <td>Super Seafood, Best of Mumbai</td>\n",
              "      <td>0</td>\n",
              "      <td>Closed (Mon),12noon – 3pm, 7pm – 12midnight...</td>\n",
              "      <td>Linking Road, Bandra West</td>\n",
              "      <td>Bastian</td>\n",
              "      <td>Casual Dining,Bar</td>\n",
              "      <td>76</td>\n",
              "      <td>4.5</td>\n",
              "      <td>1438</td>\n",
              "      <td>1</td>\n",
              "      <td>2</td>\n",
              "      <td>2</td>\n",
              "    </tr>\n",
              "    <tr>\n",
              "      <th>3</th>\n",
              "      <td>4</td>\n",
              "      <td>1800</td>\n",
              "      <td>Finger Food, Continental</td>\n",
              "      <td>45</td>\n",
              "      <td>Where's The Party?, Best of Mumbai, Food Hygie...</td>\n",
              "      <td>0</td>\n",
              "      <td>12noon – 1am (Mon-Sun)</td>\n",
              "      <td>Lower Parel</td>\n",
              "      <td>Tamasha</td>\n",
              "      <td>Others</td>\n",
              "      <td>76</td>\n",
              "      <td>4.9</td>\n",
              "      <td>3275</td>\n",
              "      <td>2</td>\n",
              "      <td>3</td>\n",
              "      <td>2</td>\n",
              "    </tr>\n",
              "    <tr>\n",
              "      <th>4</th>\n",
              "      <td>2</td>\n",
              "      <td>450</td>\n",
              "      <td>North Indian, Street Food, Fast Food, Chinese</td>\n",
              "      <td>45</td>\n",
              "      <td></td>\n",
              "      <td>1</td>\n",
              "      <td>12noon – 4pm, 7pm – 11:45pm (Mon-Sun)</td>\n",
              "      <td>Vashi</td>\n",
              "      <td>Bhagat Tarachand</td>\n",
              "      <td>Casual Dining</td>\n",
              "      <td>0</td>\n",
              "      <td>4.1</td>\n",
              "      <td>1422</td>\n",
              "      <td>4</td>\n",
              "      <td>1</td>\n",
              "      <td>1</td>\n",
              "    </tr>\n",
              "  </tbody>\n",
              "</table>\n",
              "</div>"
            ],
            "text/plain": [
              "   Additional_outlet_count Cost_for_two  ... Feature_count  Rest_type_count\n",
              "0                        1         1500  ...             2                2\n",
              "1                        1          800  ...             2                1\n",
              "2                        4         2500  ...             2                2\n",
              "3                        4         1800  ...             3                2\n",
              "4                        2          450  ...             1                1\n",
              "\n",
              "[5 rows x 16 columns]"
            ]
          },
          "metadata": {},
          "execution_count": 53
        }
      ]
    },
    {
      "cell_type": "markdown",
      "metadata": {
        "id": "E8Qn0xdkG58k"
      },
      "source": [
        "# Data Visualization"
      ]
    },
    {
      "cell_type": "markdown",
      "metadata": {
        "id": "GN8dMofFG_W1"
      },
      "source": [
        "Most Popular Restaurant chain"
      ]
    },
    {
      "cell_type": "code",
      "metadata": {
        "colab": {
          "base_uri": "https://localhost:8080/",
          "height": 485
        },
        "id": "JHoOMV4aG2MF",
        "outputId": "75f7d77b-b510-4a07-e977-12210e3a6563"
      },
      "source": [
        "plt.figure(figsize=(10,7))\n",
        "chains=df['Restaurant_Name'].value_counts()[:20]\n",
        "sns.barplot(x=chains,y=chains.index,palette='deep')\n",
        "plt.title(\"Most famous restaurants chains in Mumbai\",fontsize =20, weight = 'bold')\n",
        "plt.xlabel(\"Number of outlets\",fontsize =16)"
      ],
      "execution_count": null,
      "outputs": [
        {
          "output_type": "execute_result",
          "data": {
            "text/plain": [
              "Text(0.5, 0, 'Number of outlets')"
            ]
          },
          "metadata": {},
          "execution_count": 54
        },
        {
          "output_type": "display_data",
          "data": {
            "image/png": "[encoded data removed]",
            "text/plain": [
              "<Figure size 720x504 with 1 Axes>"
            ]
          },
          "metadata": {
            "needs_background": "light"
          }
        }
      ]
    },
    {
      "cell_type": "markdown",
      "metadata": {
        "id": "LBrm70H9Heno"
      },
      "source": [
        "Most Popular restaurants"
      ]
    },
    {
      "cell_type": "code",
      "metadata": {
        "colab": {
          "base_uri": "https://localhost:8080/",
          "height": 529
        },
        "id": "37Mn7SU-G2Ib",
        "outputId": "04dc31a6-9047-4d34-a5d5-badeadd98932"
      },
      "source": [
        "plt.figure(figsize=(7,7))\n",
        "rest=df['Restaurant_Type'].value_counts()[:20]\n",
        "sns.barplot(rest,rest.index)\n",
        "plt.title(\"Restaurant types\")\n",
        "plt.xlabel(\"count\")"
      ],
      "execution_count": null,
      "outputs": [
        {
          "output_type": "stream",
          "name": "stderr",
          "text": [
            "/usr/local/lib/python3.7/dist-packages/seaborn/_decorators.py:43: FutureWarning: Pass the following variables as keyword args: x, y. From version 0.12, the only valid positional argument will be `data`, and passing other arguments without an explicit keyword will result in an error or misinterpretation.\n",
            "  FutureWarning\n"
          ]
        },
        {
          "output_type": "execute_result",
          "data": {
            "text/plain": [
              "Text(0.5, 0, 'count')"
            ]
          },
          "metadata": {},
          "execution_count": 55
        },
        {
          "output_type": "display_data",
          "data": {
            "image/png": "[encoded data removed]",
            "text/plain": [
              "<Figure size 504x504 with 1 Axes>"
            ]
          },
          "metadata": {
            "needs_background": "light"
          }
        }
      ]
    },
    {
      "cell_type": "markdown",
      "metadata": {
        "id": "HwJlqRQDIDrp"
      },
      "source": [
        "Popular Cuisines"
      ]
    },
    {
      "cell_type": "code",
      "metadata": {
        "colab": {
          "base_uri": "https://localhost:8080/",
          "height": 529
        },
        "id": "2XvxBlbFHtTL",
        "outputId": "72e1538a-adfb-44cd-c59f-bbfa0e74d09e"
      },
      "source": [
        "plt.figure(figsize=(7,7))\n",
        "cuisines=df['Cuisines'].value_counts()[:10]\n",
        "sns.barplot(cuisines,cuisines.index)\n",
        "plt.xlabel('Count')\n",
        "plt.title(\"Most popular cuisines\")"
      ],
      "execution_count": null,
      "outputs": [
        {
          "output_type": "stream",
          "name": "stderr",
          "text": [
            "/usr/local/lib/python3.7/dist-packages/seaborn/_decorators.py:43: FutureWarning: Pass the following variables as keyword args: x, y. From version 0.12, the only valid positional argument will be `data`, and passing other arguments without an explicit keyword will result in an error or misinterpretation.\n",
            "  FutureWarning\n"
          ]
        },
        {
          "output_type": "execute_result",
          "data": {
            "text/plain": [
              "Text(0.5, 1.0, 'Most popular cuisines')"
            ]
          },
          "metadata": {},
          "execution_count": 56
        },
        {
          "output_type": "display_data",
          "data": {
            "image/png": "[encoded data removed]",
            "text/plain": [
              "<Figure size 504x504 with 1 Axes>"
            ]
          },
          "metadata": {
            "needs_background": "light"
          }
        }
      ]
    },
    {
      "cell_type": "markdown",
      "metadata": {
        "id": "4zw-1S5aLoqW"
      },
      "source": [
        "Locations with most restaurants"
      ]
    },
    {
      "cell_type": "code",
      "metadata": {
        "colab": {
          "base_uri": "https://localhost:8080/",
          "height": 514
        },
        "id": "zK8bIru9IKDS",
        "outputId": "5b63af33-83e2-4e9d-86a2-e7f72079f636"
      },
      "source": [
        "plt.figure(figsize=(7,7))\n",
        "Rest_locations=df['Restaurant_Location'].value_counts()[:20]\n",
        "sns.barplot(Rest_locations,Rest_locations.index,palette=\"rocket\")"
      ],
      "execution_count": null,
      "outputs": [
        {
          "output_type": "stream",
          "name": "stderr",
          "text": [
            "/usr/local/lib/python3.7/dist-packages/seaborn/_decorators.py:43: FutureWarning: Pass the following variables as keyword args: x, y. From version 0.12, the only valid positional argument will be `data`, and passing other arguments without an explicit keyword will result in an error or misinterpretation.\n",
            "  FutureWarning\n"
          ]
        },
        {
          "output_type": "execute_result",
          "data": {
            "text/plain": [
              "<matplotlib.axes._subplots.AxesSubplot at 0x7fa2462f5950>"
            ]
          },
          "metadata": {},
          "execution_count": 57
        },
        {
          "output_type": "display_data",
          "data": {
            "image/png": "[encoded data removed]",
            "text/plain": [
              "<Figure size 504x504 with 1 Axes>"
            ]
          },
          "metadata": {
            "needs_background": "light"
          }
        }
      ]
    },
    {
      "cell_type": "markdown",
      "metadata": {
        "id": "HMEuo_-vL8R7"
      },
      "source": [
        "Average cost for two"
      ]
    },
    {
      "cell_type": "code",
      "metadata": {
        "colab": {
          "base_uri": "https://localhost:8080/",
          "height": 487
        },
        "id": "Qum-0wMiIYoM",
        "outputId": "fdc7aba3-82c0-45a2-e70c-9016722ad831"
      },
      "source": [
        "plt.figure(figsize = (12,8))\n",
        "df['Cost_for_two'].value_counts()[:20].plot(kind = 'pie')\n",
        "plt.title('Average cost for 2 people', fontsize =20, weight = 'bold')\n",
        "plt.show()"
      ],
      "execution_count": null,
      "outputs": [
        {
          "output_type": "display_data",
          "data": {
            "image/png": "[encoded data removed]",
            "text/plain": [
              "<Figure size 864x576 with 1 Axes>"
            ]
          },
          "metadata": {}
        }
      ]
    },
    {
      "cell_type": "markdown",
      "metadata": {
        "id": "Ke5ADJlTN6RR"
      },
      "source": [
        "Average Rating"
      ]
    },
    {
      "cell_type": "code",
      "metadata": {
        "id": "fyoJyoPINsVP"
      },
      "source": [
        "df['Rating'] = df['Rating'].astype(float)"
      ],
      "execution_count": null,
      "outputs": []
    },
    {
      "cell_type": "code",
      "metadata": {
        "colab": {
          "base_uri": "https://localhost:8080/",
          "height": 312
        },
        "id": "A3l0bdhEMbzB",
        "outputId": "841d1e4d-9012-4393-b72c-fd04bf6b3a9d"
      },
      "source": [
        "df.Rating.hist(color='#68cbfc')\n",
        "plt.axvline(x= df.Rating.mean(),ls='--',color='#091a4a')\n",
        "plt.title('Average Rating for Mumbai Restaurants',weight='bold')\n",
        "plt.xlabel('Rating')\n",
        "plt.ylabel('No of Restaurants')\n",
        "print(df.Rating.mean())"
      ],
      "execution_count": null,
      "outputs": [
        {
          "output_type": "stream",
          "name": "stdout",
          "text": [
            "3.261043239533291\n"
          ]
        },
        {
          "output_type": "display_data",
          "data": {
            "image/png": "[encoded data removed]",
            "text/plain": [
              "<Figure size 432x288 with 1 Axes>"
            ]
          },
          "metadata": {
            "needs_background": "light"
          }
        }
      ]
    },
    {
      "cell_type": "markdown",
      "metadata": {
        "id": "YrukMSDmX7UD"
      },
      "source": [
        "Rating"
      ]
    },
    {
      "cell_type": "code",
      "metadata": {
        "colab": {
          "base_uri": "https://localhost:8080/",
          "height": 401
        },
        "id": "G3svRMVoOhPL",
        "outputId": "c584dd24-abac-4685-c752-511193a7321a"
      },
      "source": [
        "Rating = [((df['Rating']>2)&(df['Rating']<3)).sum(),\n",
        "         ((df['Rating']>3)&(df['Rating']<4)).sum(),\n",
        "         (df['Rating']>4).sum()]\n",
        "\n",
        "name = ['2<Rating<3', '3<Rating<4', 'Rating>4']\n",
        "plt.pie(Rating, labels=name, autopct='%0.f%%')"
      ],
      "execution_count": null,
      "outputs": [
        {
          "output_type": "execute_result",
          "data": {
            "text/plain": [
              "([<matplotlib.patches.Wedge at 0x7fa23d1ddc90>,\n",
              "  <matplotlib.patches.Wedge at 0x7fa23d1eb390>,\n",
              "  <matplotlib.patches.Wedge at 0x7fa23d1ebc10>],\n",
              " [Text(1.0828856907819948, 0.19328367934101973, '2<Rating<3'),\n",
              "  Text(-1.0524563906560627, 0.319899274408701, '3<Rating<4'),\n",
              "  Text(0.979871512065646, -0.49985179787831585, 'Rating>4')],\n",
              " [Text(0.5906649222447243, 0.10542746145873803, '6%'),\n",
              "  Text(-0.5740671221760341, 0.17449051331383686, '79%'),\n",
              "  Text(0.534475370217625, -0.27264643520635407, '15%')])"
            ]
          },
          "metadata": {},
          "execution_count": 61
        },
        {
          "output_type": "display_data",
          "data": {
            "image/png": "[encoded data removed]",
            "text/plain": [
              "<Figure size 432x288 with 1 Axes>"
            ]
          },
          "metadata": {}
        }
      ]
    },
    {
      "cell_type": "markdown",
      "metadata": {
        "id": "r3DPG1k-YSNa"
      },
      "source": [
        "Rating vs Restaurant Type"
      ]
    },
    {
      "cell_type": "code",
      "metadata": {
        "colab": {
          "base_uri": "https://localhost:8080/",
          "height": 630
        },
        "id": "TpX1JpqgWW6_",
        "outputId": "299cf972-fe08-4c05-a73f-ccd29ed20442"
      },
      "source": [
        "plt.figure(figsize=(14,8))\n",
        "sns.boxplot(x='Restaurant_Type',y='Rating',data=df,palette='inferno')\n",
        "plt.xticks(rotation='90')"
      ],
      "execution_count": null,
      "outputs": [
        {
          "output_type": "execute_result",
          "data": {
            "text/plain": [
              "(array([ 0,  1,  2,  3,  4,  5,  6,  7,  8,  9, 10, 11, 12]),\n",
              " <a list of 13 Text major ticklabel objects>)"
            ]
          },
          "metadata": {},
          "execution_count": 62
        },
        {
          "output_type": "display_data",
          "data": {
            "image/png": "[encoded data removed]",
            "text/plain": [
              "<Figure size 1008x576 with 1 Axes>"
            ]
          },
          "metadata": {
            "needs_background": "light"
          }
        }
      ]
    },
    {
      "cell_type": "markdown",
      "metadata": {
        "id": "b0A1PRSjZJl2"
      },
      "source": [
        "# Building The Model"
      ]
    },
    {
      "cell_type": "code",
      "metadata": {
        "id": "E6dspdcvXmY3"
      },
      "source": [
        "from sklearn.model_selection import train_test_split"
      ],
      "execution_count": null,
      "outputs": []
    },
    {
      "cell_type": "code",
      "metadata": {
        "id": "YWKEpEiRZhEV"
      },
      "source": [
        "X = df.drop(columns=['Cuisines','Features','Operational_hours','Restaurant_Location','Restaurant_Name',\t'Restaurant_Type','Rating'])\n",
        "Y = df['Rating']"
      ],
      "execution_count": null,
      "outputs": []
    },
    {
      "cell_type": "code",
      "metadata": {
        "id": "9IKbXfaLZorx"
      },
      "source": [
        "X_train,X_test,Y_train,Y_test = train_test_split(X,Y,test_size = 0.2,random_state=2)"
      ],
      "execution_count": null,
      "outputs": []
    },
    {
      "cell_type": "code",
      "metadata": {
        "colab": {
          "base_uri": "https://localhost:8080/"
        },
        "id": "RVQpM9QwZ4kb",
        "outputId": "ee89e43d-345e-4947-dfc4-6748f4b8bbcc"
      },
      "source": [
        "print(X.shape, X_train.shape, X_test.shape)"
      ],
      "execution_count": null,
      "outputs": [
        {
          "output_type": "stream",
          "name": "stdout",
          "text": [
            "(7285, 9) (5828, 9) (1457, 9)\n"
          ]
        }
      ]
    },
    {
      "cell_type": "code",
      "metadata": {
        "id": "7Fv26zHAZ7B7"
      },
      "source": [
        "from sklearn.metrics import r2_score"
      ],
      "execution_count": null,
      "outputs": []
    },
    {
      "cell_type": "markdown",
      "metadata": {
        "id": "NaNIsR0tZEoH"
      },
      "source": [
        "# Decision Tree"
      ]
    },
    {
      "cell_type": "code",
      "metadata": {
        "id": "kMzRuY8tZDRt"
      },
      "source": [
        "from sklearn.tree import DecisionTreeRegressor"
      ],
      "execution_count": null,
      "outputs": []
    },
    {
      "cell_type": "code",
      "metadata": {
        "id": "-OtRauJWZDpa"
      },
      "source": [
        "DT = DecisionTreeRegressor()"
      ],
      "execution_count": null,
      "outputs": []
    },
    {
      "cell_type": "code",
      "metadata": {
        "colab": {
          "base_uri": "https://localhost:8080/"
        },
        "id": "c0saPpWMZLMa",
        "outputId": "0fe07442-d472-42f7-c234-d1aab3b04c0e"
      },
      "source": [
        "DT.fit(X_train,Y_train)"
      ],
      "execution_count": null,
      "outputs": [
        {
          "output_type": "execute_result",
          "data": {
            "text/plain": [
              "DecisionTreeRegressor(ccp_alpha=0.0, criterion='mse', max_depth=None,\n",
              "                      max_features=None, max_leaf_nodes=None,\n",
              "                      min_impurity_decrease=0.0, min_impurity_split=None,\n",
              "                      min_samples_leaf=1, min_samples_split=2,\n",
              "                      min_weight_fraction_leaf=0.0, presort='deprecated',\n",
              "                      random_state=None, splitter='best')"
            ]
          },
          "metadata": {},
          "execution_count": 70
        }
      ]
    },
    {
      "cell_type": "code",
      "metadata": {
        "colab": {
          "base_uri": "https://localhost:8080/"
        },
        "id": "qwRmyEytZQ-Y",
        "outputId": "66a6f3b1-0100-40c8-8a66-795943774543"
      },
      "source": [
        "y_pred1 = DT.predict(X_test)\n",
        "r2_score(Y_test,y_pred1)"
      ],
      "execution_count": null,
      "outputs": [
        {
          "output_type": "execute_result",
          "data": {
            "text/plain": [
              "0.8727838156489138"
            ]
          },
          "metadata": {},
          "execution_count": 71
        }
      ]
    },
    {
      "cell_type": "markdown",
      "metadata": {
        "id": "kTJ-pBRQaWRz"
      },
      "source": [
        "## Random Forest"
      ]
    },
    {
      "cell_type": "code",
      "metadata": {
        "id": "ENLxu3yLaKrm"
      },
      "source": [
        "from sklearn.ensemble import RandomForestRegressor"
      ],
      "execution_count": null,
      "outputs": []
    },
    {
      "cell_type": "code",
      "metadata": {
        "id": "MGpEu4Eeab0d"
      },
      "source": [
        "RF = RandomForestRegressor(n_estimators=100, random_state=0)"
      ],
      "execution_count": null,
      "outputs": []
    },
    {
      "cell_type": "code",
      "metadata": {
        "colab": {
          "base_uri": "https://localhost:8080/"
        },
        "id": "cq5em_TkaeXI",
        "outputId": "8f7a57d2-56e5-4e05-8df9-0c65a25d3f41"
      },
      "source": [
        "RF.fit(X_train,Y_train)"
      ],
      "execution_count": null,
      "outputs": [
        {
          "output_type": "execute_result",
          "data": {
            "text/plain": [
              "RandomForestRegressor(bootstrap=True, ccp_alpha=0.0, criterion='mse',\n",
              "                      max_depth=None, max_features='auto', max_leaf_nodes=None,\n",
              "                      max_samples=None, min_impurity_decrease=0.0,\n",
              "                      min_impurity_split=None, min_samples_leaf=1,\n",
              "                      min_samples_split=2, min_weight_fraction_leaf=0.0,\n",
              "                      n_estimators=100, n_jobs=None, oob_score=False,\n",
              "                      random_state=0, verbose=0, warm_start=False)"
            ]
          },
          "metadata": {},
          "execution_count": 74
        }
      ]
    },
    {
      "cell_type": "code",
      "metadata": {
        "colab": {
          "base_uri": "https://localhost:8080/"
        },
        "id": "RXkvfINjajtK",
        "outputId": "e72e7256-f756-4774-9261-4aed25f5c9fb"
      },
      "source": [
        "Y_predict = RF.predict(X_test)\n",
        "r2_score(Y_test,Y_predict)"
      ],
      "execution_count": null,
      "outputs": [
        {
          "output_type": "execute_result",
          "data": {
            "text/plain": [
              "0.9206640180584895"
            ]
          },
          "metadata": {},
          "execution_count": 75
        }
      ]
    },
    {
      "cell_type": "markdown",
      "metadata": {
        "id": "q_Hjg8iQa-HK"
      },
      "source": [
        "## Actual vs Predicted"
      ]
    },
    {
      "cell_type": "code",
      "metadata": {
        "id": "Z7n675IDbBe6",
        "colab": {
          "base_uri": "https://localhost:8080/",
          "height": 295
        },
        "outputId": "8b1703f9-19ae-4bc5-a343-71f07855f4d8"
      },
      "source": [
        "plt.figure(figsize=(9,4))\n",
        "plt.scatter(Y_test,Y_predict)\n",
        "plt.title('Actual vs Predicted')\n",
        "plt.xlabel('Actual')\n",
        "plt.ylabel('Predicted')\n",
        "plt.show()"
      ],
      "execution_count": null,
      "outputs": [
        {
          "output_type": "display_data",
          "data": {
            "image/png": "[encoded data removed]",
            "text/plain": [
              "<Figure size 648x288 with 1 Axes>"
            ]
          },
          "metadata": {
            "needs_background": "light"
          }
        }
      ]
    },
    {
      "cell_type": "code",
      "metadata": {
        "colab": {
          "base_uri": "https://localhost:8080/",
          "height": 581
        },
        "id": "m_6Qv-uc5WpM",
        "outputId": "f4db157b-a24b-488d-be29-6f8d27fce01e"
      },
      "source": [
        "df.head()"
      ],
      "execution_count": null,
      "outputs": [
        {
          "output_type": "execute_result",
          "data": {
            "text/html": [
              "<div>\n",
              "<style scoped>\n",
              "    .dataframe tbody tr th:only-of-type {\n",
              "        vertical-align: middle;\n",
              "    }\n",
              "\n",
              "    .dataframe tbody tr th {\n",
              "        vertical-align: top;\n",
              "    }\n",
              "\n",
              "    .dataframe thead th {\n",
              "        text-align: right;\n",
              "    }\n",
              "</style>\n",
              "<table border=\"1\" class=\"dataframe\">\n",
              "  <thead>\n",
              "    <tr style=\"text-align: right;\">\n",
              "      <th></th>\n",
              "      <th>Additional_outlet_count</th>\n",
              "      <th>Cost_for_two</th>\n",
              "      <th>Cuisines</th>\n",
              "      <th>Delivery_Time</th>\n",
              "      <th>Features</th>\n",
              "      <th>Home_Delivery</th>\n",
              "      <th>Operational_hours</th>\n",
              "      <th>Restaurant_Location</th>\n",
              "      <th>Restaurant_Name</th>\n",
              "      <th>Restaurant_Type</th>\n",
              "      <th>Delivery_cost</th>\n",
              "      <th>Rating</th>\n",
              "      <th>votes</th>\n",
              "      <th>Cuisine_count</th>\n",
              "      <th>Feature_count</th>\n",
              "      <th>Rest_type_count</th>\n",
              "    </tr>\n",
              "  </thead>\n",
              "  <tbody>\n",
              "    <tr>\n",
              "      <th>0</th>\n",
              "      <td>1</td>\n",
              "      <td>1500</td>\n",
              "      <td>Finger Food, Continental, European, Italian</td>\n",
              "      <td>45</td>\n",
              "      <td>Food Hygiene Rated Restaurants In Mumbai, Best...</td>\n",
              "      <td>0</td>\n",
              "      <td>12noon – 1am (Mon-Sun)</td>\n",
              "      <td>Kamala Mills Compound</td>\n",
              "      <td>Lord of the Drinks</td>\n",
              "      <td>Others</td>\n",
              "      <td>76</td>\n",
              "      <td>4.9</td>\n",
              "      <td>1326</td>\n",
              "      <td>4</td>\n",
              "      <td>2</td>\n",
              "      <td>2</td>\n",
              "    </tr>\n",
              "    <tr>\n",
              "      <th>1</th>\n",
              "      <td>1</td>\n",
              "      <td>800</td>\n",
              "      <td>Pizza</td>\n",
              "      <td>45</td>\n",
              "      <td>Value For Money, Best of Mumbai</td>\n",
              "      <td>0</td>\n",
              "      <td>11am – 12:30AM (Mon-Sun)</td>\n",
              "      <td>Malad West</td>\n",
              "      <td>Joey's Pizza</td>\n",
              "      <td>Quick Bites</td>\n",
              "      <td>76</td>\n",
              "      <td>4.6</td>\n",
              "      <td>5974</td>\n",
              "      <td>1</td>\n",
              "      <td>2</td>\n",
              "      <td>1</td>\n",
              "    </tr>\n",
              "    <tr>\n",
              "      <th>2</th>\n",
              "      <td>4</td>\n",
              "      <td>2500</td>\n",
              "      <td>Seafood</td>\n",
              "      <td>45</td>\n",
              "      <td>Super Seafood, Best of Mumbai</td>\n",
              "      <td>0</td>\n",
              "      <td>Closed (Mon),12noon – 3pm, 7pm – 12midnight...</td>\n",
              "      <td>Linking Road, Bandra West</td>\n",
              "      <td>Bastian</td>\n",
              "      <td>Casual Dining,Bar</td>\n",
              "      <td>76</td>\n",
              "      <td>4.5</td>\n",
              "      <td>1438</td>\n",
              "      <td>1</td>\n",
              "      <td>2</td>\n",
              "      <td>2</td>\n",
              "    </tr>\n",
              "    <tr>\n",
              "      <th>3</th>\n",
              "      <td>4</td>\n",
              "      <td>1800</td>\n",
              "      <td>Finger Food, Continental</td>\n",
              "      <td>45</td>\n",
              "      <td>Where's The Party?, Best of Mumbai, Food Hygie...</td>\n",
              "      <td>0</td>\n",
              "      <td>12noon – 1am (Mon-Sun)</td>\n",
              "      <td>Lower Parel</td>\n",
              "      <td>Tamasha</td>\n",
              "      <td>Others</td>\n",
              "      <td>76</td>\n",
              "      <td>4.9</td>\n",
              "      <td>3275</td>\n",
              "      <td>2</td>\n",
              "      <td>3</td>\n",
              "      <td>2</td>\n",
              "    </tr>\n",
              "    <tr>\n",
              "      <th>4</th>\n",
              "      <td>2</td>\n",
              "      <td>450</td>\n",
              "      <td>North Indian, Street Food, Fast Food, Chinese</td>\n",
              "      <td>45</td>\n",
              "      <td></td>\n",
              "      <td>1</td>\n",
              "      <td>12noon – 4pm, 7pm – 11:45pm (Mon-Sun)</td>\n",
              "      <td>Vashi</td>\n",
              "      <td>Bhagat Tarachand</td>\n",
              "      <td>Casual Dining</td>\n",
              "      <td>0</td>\n",
              "      <td>4.1</td>\n",
              "      <td>1422</td>\n",
              "      <td>4</td>\n",
              "      <td>1</td>\n",
              "      <td>1</td>\n",
              "    </tr>\n",
              "  </tbody>\n",
              "</table>\n",
              "</div>"
            ],
            "text/plain": [
              "   Additional_outlet_count Cost_for_two  ... Feature_count  Rest_type_count\n",
              "0                        1         1500  ...             2                2\n",
              "1                        1          800  ...             2                1\n",
              "2                        4         2500  ...             2                2\n",
              "3                        4         1800  ...             3                2\n",
              "4                        2          450  ...             1                1\n",
              "\n",
              "[5 rows x 16 columns]"
            ]
          },
          "metadata": {},
          "execution_count": 77
        }
      ]
    },
    {
      "cell_type": "code",
      "metadata": {
        "colab": {
          "base_uri": "https://localhost:8080/",
          "height": 204
        },
        "id": "tLqAj8_8apGm",
        "outputId": "fda25216-3405-433c-deb8-76dafd43a01a"
      },
      "source": [
        "d1 = df.drop(columns=['Cuisines','Features','Operational_hours','Restaurant_Location','Restaurant_Name','Restaurant_Type'])\n",
        "d1.head()"
      ],
      "execution_count": null,
      "outputs": [
        {
          "output_type": "execute_result",
          "data": {
            "text/html": [
              "<div>\n",
              "<style scoped>\n",
              "    .dataframe tbody tr th:only-of-type {\n",
              "        vertical-align: middle;\n",
              "    }\n",
              "\n",
              "    .dataframe tbody tr th {\n",
              "        vertical-align: top;\n",
              "    }\n",
              "\n",
              "    .dataframe thead th {\n",
              "        text-align: right;\n",
              "    }\n",
              "</style>\n",
              "<table border=\"1\" class=\"dataframe\">\n",
              "  <thead>\n",
              "    <tr style=\"text-align: right;\">\n",
              "      <th></th>\n",
              "      <th>Additional_outlet_count</th>\n",
              "      <th>Cost_for_two</th>\n",
              "      <th>Delivery_Time</th>\n",
              "      <th>Home_Delivery</th>\n",
              "      <th>Delivery_cost</th>\n",
              "      <th>Rating</th>\n",
              "      <th>votes</th>\n",
              "      <th>Cuisine_count</th>\n",
              "      <th>Feature_count</th>\n",
              "      <th>Rest_type_count</th>\n",
              "    </tr>\n",
              "  </thead>\n",
              "  <tbody>\n",
              "    <tr>\n",
              "      <th>0</th>\n",
              "      <td>1</td>\n",
              "      <td>1500</td>\n",
              "      <td>45</td>\n",
              "      <td>0</td>\n",
              "      <td>76</td>\n",
              "      <td>4.9</td>\n",
              "      <td>1326</td>\n",
              "      <td>4</td>\n",
              "      <td>2</td>\n",
              "      <td>2</td>\n",
              "    </tr>\n",
              "    <tr>\n",
              "      <th>1</th>\n",
              "      <td>1</td>\n",
              "      <td>800</td>\n",
              "      <td>45</td>\n",
              "      <td>0</td>\n",
              "      <td>76</td>\n",
              "      <td>4.6</td>\n",
              "      <td>5974</td>\n",
              "      <td>1</td>\n",
              "      <td>2</td>\n",
              "      <td>1</td>\n",
              "    </tr>\n",
              "    <tr>\n",
              "      <th>2</th>\n",
              "      <td>4</td>\n",
              "      <td>2500</td>\n",
              "      <td>45</td>\n",
              "      <td>0</td>\n",
              "      <td>76</td>\n",
              "      <td>4.5</td>\n",
              "      <td>1438</td>\n",
              "      <td>1</td>\n",
              "      <td>2</td>\n",
              "      <td>2</td>\n",
              "    </tr>\n",
              "    <tr>\n",
              "      <th>3</th>\n",
              "      <td>4</td>\n",
              "      <td>1800</td>\n",
              "      <td>45</td>\n",
              "      <td>0</td>\n",
              "      <td>76</td>\n",
              "      <td>4.9</td>\n",
              "      <td>3275</td>\n",
              "      <td>2</td>\n",
              "      <td>3</td>\n",
              "      <td>2</td>\n",
              "    </tr>\n",
              "    <tr>\n",
              "      <th>4</th>\n",
              "      <td>2</td>\n",
              "      <td>450</td>\n",
              "      <td>45</td>\n",
              "      <td>1</td>\n",
              "      <td>0</td>\n",
              "      <td>4.1</td>\n",
              "      <td>1422</td>\n",
              "      <td>4</td>\n",
              "      <td>1</td>\n",
              "      <td>1</td>\n",
              "    </tr>\n",
              "  </tbody>\n",
              "</table>\n",
              "</div>"
            ],
            "text/plain": [
              "   Additional_outlet_count Cost_for_two  ...  Feature_count  Rest_type_count\n",
              "0                        1         1500  ...              2                2\n",
              "1                        1          800  ...              2                1\n",
              "2                        4         2500  ...              2                2\n",
              "3                        4         1800  ...              3                2\n",
              "4                        2          450  ...              1                1\n",
              "\n",
              "[5 rows x 10 columns]"
            ]
          },
          "metadata": {},
          "execution_count": 78
        }
      ]
    },
    {
      "cell_type": "code",
      "metadata": {
        "id": "lczcQT961gCV"
      },
      "source": [
        "d1.to_csv(r'C:\\project\\zomato_df.csv')"
      ],
      "execution_count": null,
      "outputs": []
    },
    {
      "cell_type": "code",
      "metadata": {
        "id": "-YqEq73UcbVw"
      },
      "source": [
        ""
      ],
      "execution_count": null,
      "outputs": []
    }
  ]
}